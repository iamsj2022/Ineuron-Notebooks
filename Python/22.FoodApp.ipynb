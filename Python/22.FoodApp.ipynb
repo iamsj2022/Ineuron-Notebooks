{
 "cells": [
  {
   "cell_type": "markdown",
   "metadata": {},
   "source": [
    "<img src=\"https://d24cdstip7q8pz.cloudfront.net/t/ineuron1/content/common/images/final%20logo.png\" height=50 alt-text=\"iNeuron.ai logo\">"
   ]
  },
  {
   "cell_type": "markdown",
   "metadata": {},
   "source": [
    "# 22 Food Application\n",
    "## Contents\n",
    "- **Preface**\n",
    "- **Introduction**\n",
    "- **Prerequisites**\n",
    "- **Application Architecture**\n",
    "- **Python Implementation**\n",
    "   - **Project structure**\n",
    "   - **Code Explanation**\n",
    "   - **Output**\n",
    "      - **Home Page**"
   ]
  },
  {
   "cell_type": "markdown",
   "metadata": {},
   "source": [
    "## 22.1 Preface\n",
    "This document is intended towards helping all the data scientists out there. It is a step by step guide for creating a `Food Application`. In this case, a food application right from scratch and then it can be deployed in any cloud platform. This document takes a simple example of a food application process from scratch and as outcome it shows the entered data with respect to datetime. \n"
   ]
  },
  {
   "cell_type": "markdown",
   "metadata": {},
   "source": [
    "## 22.2 Introduction\n",
    "\n",
    "- The calorie is a unit of energy widely used in nutrition. The small calorie or gram calorie (usually denoted cal) is the amount of heat energy needed to raise the temperature of one gram of water by one degree Celsius (or one kelvin). The large calorie, food calorie, or kilocalorie (Cal, calorie or kcal) is the amount of heat needed to cause the same increase in one kilogram of water. Thus, 1 kilocalorie (kcal) = 1000 calories (cal). \n",
    "\n",
    "- By convention in food science, the large calorie is commonly called Calorie (with a capital C by some authors to distinguish from the smaller unit). In most countries, labels of industrialized food products are required to indicate the nutritional energy value in (kilo or large) calories per serving or per weight.\n",
    "\n",
    "- This Food App helps users to keep track of all the food-items they eat in a day and also keeps track of calories they intake.\n",
    "\n",
    ">**Note:** Resource of information [Wikipedia](https://en.wikipedia.org/wiki/Calorie)\n"
   ]
  },
  {
   "cell_type": "markdown",
   "metadata": {},
   "source": [
    "## 22.3 Prerequisites\n",
    "**The things needed before we start building a python based web scraper are:**\n",
    "- Python installed. \n",
    "- A Python IDE (Integrated Development Environment): like PyCharm, Spyder, or any other IDE of choice (Installation Process is provided in installation section) \n",
    "- Django installation using a simple command: \n",
    "```cmd\n",
    "pip install django\n",
    "``` \n",
    "- Basic understanding of Python and HTML. \n",
    "- Basic understanding of Git (download Git CLI from https://gitforwindows.org/ )\n"
   ]
  },
  {
   "cell_type": "markdown",
   "metadata": {},
   "source": [
    "## 22.4 Application Architecture\n",
    "\n",
    "<img src=\"imgs/architecture.png\" width=\"500\"/>"
   ]
  },
  {
   "cell_type": "markdown",
   "metadata": {},
   "source": [
    "## 22.5 Python Implementation"
   ]
  },
  {
   "cell_type": "markdown",
   "metadata": {},
   "source": [
    "### 22.5.1 Project structure\n",
    "\n",
    "**Note:** VSCode has been used as an IDE for this documentation\n",
    "\n",
    "1.\tLet’s create a folder called ‘templates’ on our local machines inside the food app.\n",
    "\n",
    "2.\tInside that folder, let’s create two more files called ‘base.html’ and ‘fome.html’ to hold the code for the UI of our application. Inside ‘static’.\n",
    "\n",
    "3.\tThe base.html file will contain the navbar as it is going to be unchanged throughout the application.\n",
    "\n",
    "4.\tThe home.html file will display the information entered by user in tabular format and is going to be updated when user enters a new item.\n",
    "\n",
    "\n",
    "<img src=\"imgs/folder_structure.png\" width=\"300\"/> "
   ]
  },
  {
   "cell_type": "markdown",
   "metadata": {},
   "source": [
    "## 22.5.2 Code Explanation\n",
    "**a)** Import the necessary libraries:\n",
    "\n",
    "<img src=\"imgs/libraries.png\" width=\"500\"/> \n",
    " \n",
    "**b)** Creating the model for the types of variables to be stored in database.\n",
    "\n",
    "<img src=\"imgs/model.png\" width=\"500\"/> \n",
    " \n",
    "**c)** Now let’s understand the functions. \n",
    "\n",
    "- If the HTTP request method is POST, then the interpreter will check whether the input by user is valid and store it in database. And the stored data is extracted and displayed in tabular format.\n",
    "\n",
    "<img src=\"imgs/display.png\" width=\"600\"/> \n",
    "\n"
   ]
  },
  {
   "cell_type": "markdown",
   "metadata": {},
   "source": [
    "## 22.5.3 Output"
   ]
  },
  {
   "cell_type": "markdown",
   "metadata": {},
   "source": [
    "### Home Page:\n",
    "\n",
    "<img src=\"imgs/output1.png\" width=\"700\"/> \n",
    "\n",
    "<img src=\"imgs/output2.png\" width=\"700\"/> "
   ]
  },
  {
   "cell_type": "code",
   "execution_count": null,
   "metadata": {},
   "outputs": [],
   "source": []
  },
  {
   "cell_type": "code",
   "execution_count": null,
   "metadata": {},
   "outputs": [],
   "source": []
  }
 ],
 "metadata": {
  "kernelspec": {
   "display_name": "Python 3",
   "language": "python",
   "name": "python3"
  },
  "language_info": {
   "codemirror_mode": {
    "name": "ipython",
    "version": 3
   },
   "file_extension": ".py",
   "mimetype": "text/x-python",
   "name": "python",
   "nbconvert_exporter": "python",
   "pygments_lexer": "ipython3",
   "version": "3.6.5"
  }
 },
 "nbformat": 4,
 "nbformat_minor": 2
}
