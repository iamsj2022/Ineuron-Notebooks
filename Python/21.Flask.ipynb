{
 "cells": [
  {
   "cell_type": "markdown",
   "metadata": {
    "colab_type": "text",
    "id": "810i-yAl7PiK"
   },
   "source": [
    "<img src=\"https://d24cdstip7q8pz.cloudfront.net/t/ineuron1/content/common/images/final%20logo.png\" height=50 alt-text=\"iNeuron.ai logo\">"
   ]
  },
  {
   "cell_type": "markdown",
   "metadata": {
    "colab_type": "text",
    "id": "a5KQ3rVK7PiM"
   },
   "source": [
    "# 21 Flask\n",
    "\n",
    "Flask is a micro `web application development framework` written in `Python`. Flask was created by `Armin Ronacher` of Pocoo. "
   ]
  },
  {
   "cell_type": "markdown",
   "metadata": {
    "colab_type": "text",
    "id": "2GpEqaiw7PiN"
   },
   "source": [
    "## 17.1\tFlask History and Introduction\n",
    "\n",
    "It is designed to make getting started quick and easy, with the ability to scale up to complex applications. It began as a simple wrapper around `Werkzeug` and `Jinja` and has become one of the most popular Python web application frameworks.\n",
    "\n",
    "Flask offers suggestions, but doesn't enforce any dependencies or project layout. It is up to the developer to choose the tools and libraries they want to use. There are many extensions provided by the community that make adding new functionality easy.\n"
   ]
  },
  {
   "cell_type": "markdown",
   "metadata": {
    "colab_type": "text",
    "id": "QipSqQGs7PiN"
   },
   "source": [
    "## 17.2\tUnderstanding ‘Micro’\n",
    "`“Micro”` does not mean that your whole web application has to fit into a single Python file (although it certainly can), nor does it mean that Flask is lacking in functionality. The “micro” in microframework means Flask aims to keep the core simple but extensible. Flask won’t make many decisions for you, such as what database to use. Those decisions that it does make, such as what templating engine to use, are easy to change. Everything else is up to you, so that Flask can be everything you need and nothing you don’t.\n",
    "\n",
    "By default, Flask does not include a database abstraction layer, form validation or anything else where different libraries already exist that can handle that. Instead, Flask supports extensions to add such functionality to your application as if it was implemented in Flask itself. Numerous extensions provide database integration, form validation, upload handling, various open authentication technologies, and more. Flask may be “micro”, but it’s ready for production use on a variety of needs.\n"
   ]
  },
  {
   "cell_type": "markdown",
   "metadata": {
    "colab_type": "text",
    "id": "y41zvw127PiO"
   },
   "source": [
    "## 17.3\tWhat is a web Framework?\n",
    "- A web framework is a collection of libraries which helps the web developers to create different web applications.\n",
    "\n",
    "**Flask internally uses two main components:**\n",
    "\n",
    "**Werkzeug:** Werkzeug is a comprehensive WSGI web application library. It began as a simple collection of various utilities for WSGI applications and has become one of the most advanced WSGI utility libraries.\n",
    "\n",
    "**Jinja:** Jinja is a modern and designer-friendly templating language for Python. It is fast, widely used and secure with the optional sandboxed template execution environment.\n",
    "\n",
    "**WSGI:** The Web Server Gateway Interface (WSGI, pronounced whiskey) is a simple calling convention for web servers to forward requests to web applications or frameworks written in the `Python programming language`. The current version of WSGI is version 1.0.1.\n"
   ]
  },
  {
   "cell_type": "markdown",
   "metadata": {
    "colab_type": "text",
    "id": "0jc7eT9A7PiO"
   },
   "source": [
    "## 17.4\tFlask Installation\n",
    "Flask libraries can be easily installed using any the following commands:\n",
    "\n",
    "`pip install flask`\n",
    "\n",
    "`python -m pip install flask`\n",
    "\n",
    "`conda install flask`\n"
   ]
  },
  {
   "cell_type": "markdown",
   "metadata": {
    "colab_type": "text",
    "id": "pJNrujtP7PiP"
   },
   "source": [
    "## 17.5 HTTP Methods:\n",
    "- Flask like any other web application development framework, utilizes the HTTP methods. Let’s see the most used methods:\n",
    "\n",
    "**a) GET:** The GET method means retrieve whatever information (in the form of an entity) is identified by the Request-URI. If the Request-URI refers to a data-producing process, it is the produced data which shall be returned as the response.\n",
    "\n",
    "   **For example,** we can have an API called getCustomerDetails which returns the details of customers based on customerID. \n",
    "\n",
    "**b) POST:** The POST method is used to request that the origin server accept the  entity enclosed in the request as a new subordinate of the resource identified by the Request-URI in the Request-Line. POST is designed to allow a uniform method to cover the following functions: \n",
    "\n",
    "      - Posting a message to a bulletin board, newsgroup, mailing list,\n",
    "        or similar group of articles;\n",
    "      - Providing a block of data, such as the result of submitting a\n",
    "        form, to a data-handling process;\n",
    "      - Extending a database through an append operation.\n",
    "\n",
    "   **For example,** we can have an addCustomer API which can add the new customers to the customer database.\n",
    "   \n",
    "**c) PUT:** The PUT method requests that the enclosed entity be stored under the supplied Request-URI. If the Request-URI refers to an already existing resource, the enclosed entity SHOULD be considered as a modified version of the one residing on the origin server. If the Request-URI does not point to an existing resource, and that URI is capable of being defined as a new resource by the requesting user agent, the origin server can create the resource with that URI. If a new resource is created, the origin server MUST inform the user agent via the 201 (Created) response. If an existing resource is modified, either the 200 (OK).\n",
    "\n",
    "  **For Example,** we can use an updateCustomer API which can update the details of existing customers based on customerID or if the customer is not present, it will create a new one.\n",
    "\n",
    "\n",
    "**In the examples of HTTP methods, we have talked about APIs, let’s see what an API is.**\n"
   ]
  },
  {
   "cell_type": "markdown",
   "metadata": {
    "colab_type": "text",
    "id": "1x_srhJ87PiQ"
   },
   "source": [
    "## 17.6 What is an API?\n",
    "- An `application programming interface` (API) is a computing interface exposed by a particular software program, library, operating system or internet service, to allow third parties to use the functionality of that software application. \n",
    "- In the context of the internet, a Web API refers to the use of third party web services and sites, typically over HTTP, as part of new application development. \n",
    "\n",
    "Majorly, there are two kinds of `web applications` that we can make using flask:\n",
    "\n",
    "**a) Flask App with UI:** The flow for such application is:\n",
    "\n",
    "<img src=\"imgs/flask1.png\" width=\"400\"/>\n",
    "\n",
    "**b) Standalone Flask App without UI:** The flow for such application is:\n",
    "\n",
    "<img src=\"imgs/flask2.png\" width=\"400\"/>"
   ]
  },
  {
   "cell_type": "markdown",
   "metadata": {
    "colab_type": "text",
    "id": "c8Sm_xQn7PiQ"
   },
   "source": [
    "\n",
    "## 15.7 The Flask App:\n",
    "Let’s create a Flask app now.\n",
    "\n",
    "The structure of the flask app is like:\n",
    "\n",
    "<img src=\"imgs/flask3.png\" width=\"400\"/>\n",
    "\n",
    "   - The `static` folder contains the files which do not change like the `css` files. These will be used to control to appearance of the UI.\n",
    "   - The `templates` folder contains the html pages which will be used to create the UI.\n",
    "   - The `app.py` file contains the python code that can redirect to execute the custom business logic.\n",
    "   >**Note:** static and template folders are mostly required to build UI and not for a standalone API.\n"
   ]
  },
  {
   "cell_type": "markdown",
   "metadata": {
    "colab_type": "text",
    "id": "zpH32EkC7PiR"
   },
   "source": [
    "### 15.7.1 Code Snippets:\n",
    "\n",
    "**Index.html:**\n",
    "```html\n",
    "{% block head %}\n",
    "\n",
    "<title>Calculator</title>\n",
    "<link rel=\"stylesheet\" href=\"{{ url_for('static', filename='css/style.css') }}\">\n",
    "{% endblock %}\n",
    "\n",
    "{% block body %}\n",
    "<div class=\"content\">\n",
    "    <h1 style=\"text-align: center\">Calculator</h1>\n",
    "\n",
    "    <div class=\"form\">\n",
    "        <form action=\"/math\" method=\"POST\">\n",
    "            <label for=\"operation\">Choose a Mathematical \n",
    "Operation</label>\n",
    "\n",
    "<select id=\"operation\" name=\"operation\">\n",
    "  <option value=\"add\">add</option>\n",
    "  <option value=\"subtract\">subtract</option>\n",
    "  <option value=\"multiply\">multiply</option>\n",
    "  <option value=\"divide\">divide</option>\n",
    "</select>\n",
    "            <input type=\"text\" name=\"num1\" id=\"num1\">\n",
    "            <input type=\"text\" name=\"num2\" id=\"num2\">\n",
    "            <input type=\"submit\" value=\"Calculate\">\n",
    "        </form>\n",
    "    </div>\n",
    "</div>\n",
    "{% endblock %}\n",
    "\n",
    "```\n"
   ]
  },
  {
   "cell_type": "markdown",
   "metadata": {
    "colab_type": "text",
    "id": "PhrXeRQD7PiR"
   },
   "source": [
    "**app.py:**\n",
    "```python\n",
    "from flask import Flask, render_template, request, jsonify\n",
    "\n",
    "app = Flask(__name__)\n",
    "\n",
    "\n",
    "@app.route('/', methods=['GET', 'POST']) # To render Homepage\n",
    "def home_page():\n",
    "    return render_template('index.html')\n",
    "\n",
    "@app.route('/math', methods=['POST'])  # This will be called from UI\n",
    "def math_operation():\n",
    "    if (request.method=='POST'):\n",
    "        operation=request.form['operation']\n",
    "        num1=int(request.form['num1'])\n",
    "        num2 = int(request.form['num2'])\n",
    "        if(operation=='add'):\n",
    "            r=num1+num2\n",
    "            result= 'the sum of '+str(num1)+' and '+str(num2) +' is '+str(r)\n",
    "        if (operation == 'subtract'):\n",
    "            r = num1 - num2\n",
    "            result = 'the difference of ' + str(num1) + ' and ' + str(num2) + ' is ' + str(r)\n",
    "        if (operation == 'multiply'):\n",
    "            r = num1 * num2\n",
    "            result = 'the product of ' + str(num1) + ' and ' + str(num2) + ' is ' + str(r)\n",
    "        if (operation == 'divide'):\n",
    "            r = num1 / num2\n",
    "            result = 'the quotient when ' + str(num1) + ' is divided by ' + str(num2) + ' is ' + str(r)\n",
    "        return render_template('results.html',result=result)\n",
    "\n",
    "@app.route('/via_postman', methods=['POST']) # for calling the API from Postman/SOAPUI\n",
    "\n",
    "def math_operation_via_postman():\n",
    "    if (request.method=='POST'):\n",
    "        operation=request.json['operation']\n",
    "        num1=int(request.json['num1'])\n",
    "        num2 = int(request.json['num2'])\n",
    "        if(operation=='add'):\n",
    "            r=num1+num2\n",
    "            result= 'the sum of '+str(num1)+' and '+str(num2) +' is '+str(r)\n",
    "        if (operation == 'subtract'):\n",
    "            r = num1 - num2\n",
    "            result = 'the difference of ' + str(num1) + ' and ' + str(num2) + ' is ' + str(r)\n",
    "        if (operation == 'multiply'):\n",
    "            r = num1 * num2\n",
    "            result = 'the product of ' + str(num1) + ' and ' + str(num2) + ' is ' + str(r)\n",
    "        if (operation == 'divide'):\n",
    "            r = num1 / num2\n",
    "            result = 'the quotient when ' + str(num1) + ' is divided by ' + str(num2) + ' is ' + str(r)\n",
    "        return jsonify(result)\n",
    "\n",
    "\n",
    "if __name__ == '__main__':\n",
    "    app.run(debug=True)\n",
    "\n",
    "```"
   ]
  },
  {
   "cell_type": "markdown",
   "metadata": {
    "colab_type": "text",
    "id": "sCamkQ-D7PiS"
   },
   "source": [
    "**results.html**\n",
    "```html\n",
    "<!DOCTYPE html>\n",
    "<html lang=\"en\" >\n",
    "\n",
    "<head>\n",
    "  <meta charset=\"UTF-8\">\n",
    "  <title>Review Page</title>\n",
    "    <link rel=\"stylesheet\" href=\"https://cdnjs.cloudflare.com/ajax/libs/normalize/5.0.0/normalize.min.css\">\n",
    "      <link rel=\"stylesheet\" href=\"./style.css\">\n",
    "    <link rel=\"stylesheet\" href=\"{{ url_for('static', filename='css/style.css') }}\">\n",
    "</head>\n",
    "<body>\n",
    "  <div class=\"table-users\">\n",
    "   <div class=\"header\">Calculation Result</div>\n",
    "\n",
    "      {{result}}\n",
    "</div>\n",
    "</body>\n",
    "</html>\n",
    "\n",
    "```"
   ]
  },
  {
   "cell_type": "markdown",
   "metadata": {
    "colab_type": "text",
    "id": "9IfHsc2T7PiS"
   },
   "source": [
    "### 15.7.2 Results after execution:\n"
   ]
  },
  {
   "cell_type": "markdown",
   "metadata": {
    "colab_type": "text",
    "id": "BSKvdKv17PiT"
   },
   "source": [
    "#### 15.7.2.1 Output generation from UI\n",
    "**Homepage:**\n",
    "\n",
    "<img src=\"imgs/flask4.png\" width=\"800\"/>\n",
    "\n",
    "**Result Page:**\n",
    "\n",
    "<img src=\"imgs/flask5.png\" width=\"600\"/>"
   ]
  },
  {
   "cell_type": "markdown",
   "metadata": {
    "colab_type": "text",
    "id": "wg8Tf3qV7PiT"
   },
   "source": [
    "#### 15.7.2.2 Output generation from Postman\n",
    "\n",
    "<img src=\"imgs/flask6.png\" width=\"600\"/>"
   ]
  },
  {
   "cell_type": "markdown",
   "metadata": {
    "colab_type": "text",
    "id": "aE8a7OoG7PiU"
   },
   "source": [
    "### References:\n",
    "- The official [Flask Documentation](https://flask.palletsprojects.com/en/1.1.x/)\n",
    "- [Wikipedia](https://en.wikipedia.org/wiki/Flask_(web_framework))\n"
   ]
  },
  {
   "cell_type": "code",
   "execution_count": null,
   "metadata": {
    "colab": {},
    "colab_type": "code",
    "id": "Ql_lhSS37PiU"
   },
   "outputs": [],
   "source": []
  },
  {
   "cell_type": "code",
   "execution_count": null,
   "metadata": {
    "colab": {},
    "colab_type": "code",
    "id": "h3jTpBrZ7PiX"
   },
   "outputs": [],
   "source": []
  },
  {
   "cell_type": "code",
   "execution_count": null,
   "metadata": {
    "colab": {},
    "colab_type": "code",
    "id": "YIE6H1Pv7Pia"
   },
   "outputs": [],
   "source": []
  },
  {
   "cell_type": "code",
   "execution_count": null,
   "metadata": {
    "colab": {},
    "colab_type": "code",
    "id": "C-VvB5jc7Pic"
   },
   "outputs": [],
   "source": []
  }
 ],
 "metadata": {
  "colab": {
   "name": "21.Flask.ipynb",
   "provenance": []
  },
  "kernelspec": {
   "display_name": "Python 3",
   "language": "python",
   "name": "python3"
  },
  "language_info": {
   "codemirror_mode": {
    "name": "ipython",
    "version": 3
   },
   "file_extension": ".py",
   "mimetype": "text/x-python",
   "name": "python",
   "nbconvert_exporter": "python",
   "pygments_lexer": "ipython3",
   "version": "3.8.5"
  }
 },
 "nbformat": 4,
 "nbformat_minor": 1
}
