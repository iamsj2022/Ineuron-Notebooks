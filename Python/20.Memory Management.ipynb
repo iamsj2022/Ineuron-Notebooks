{
 "cells": [
  {
   "cell_type": "markdown",
   "metadata": {},
   "source": [
    "<img src=\"https://d24cdstip7q8pz.cloudfront.net/t/ineuron1/content/common/images/final%20logo.png\" height=50 alt-text=\"iNeuron.ai logo\">"
   ]
  },
  {
   "cell_type": "markdown",
   "metadata": {},
   "source": [
    "## 20.1 Memory Management\n",
    "**Overview **\n",
    "\n",
    "- Memory management in Python involves a private heap containing all Python objects and data structures. \n",
    "- The management of this private heap is ensured internally by the **`Python Memory Manager`**. The Python memory manager has different components which deal with various dynamic storage management aspects, like sharing, segmentation, preallocation or caching.\n",
    "\n",
    "- It is important to understand that the management of the Python heap is performed by the interpreter itself and that the user has no control over it, even if they regularly manipulate object pointers to memory blocks inside that heap. \n",
    "- The allocation of heap space for Python objects and other internal buffers is performed on demand by the Python memory manager through the Python/C API functions listed in [official pyhton document](https://docs.python.org/3/c-api/memory.html#:~:text=Overview,by%20the%20Python%20memory%20manager.).\n",
    "\n",
    "**Note:** To avoid memory corruption, extension writers should never try to operate on Python objects with the functions exported by the `C` library: `malloc()`, `calloc()`, `realloc()` and `free()`. This will result in mixed calls between the `C` allocator and the `Python memory manager` with fatal consequences, because they implement different algorithms and operate on different heaps.\n",
    "\n",
    "**Note:** However, one may safely allocate and release memory blocks with the `C` library allocator for [individual purposes](https://docs.python.org/3/c-api/memory.html#:~:text=Overview,by%20the%20Python%20memory%20manager.). "
   ]
  },
  {
   "cell_type": "markdown",
   "metadata": {},
   "source": [
    "## 20.2 Threading\n",
    "\n",
    "- In python, the threading process is considered to well-known approach to accomplishing concurrency and parallelism. Although, thread is a lightweight task/process and its feature generally provided via the OS (operating system). Thread shares the same space of memory as shown in below diagram.\n",
    "\n",
    "<img src=\"imgs/Thread_Diagram.png\" width=\"500\"/>\n",
    "\n",
    "- If the multiple threads has been used by python application, you can see a single entry for a script while looking at running process on OS, while its running multiple number of threads.\n",
    "\n",
    "- When a program develop multiple threads with execution process is called multithreading, so that one running task does not block others task. It generally works better when a task is divided into subtasks, then each subtask is given to a thread for the execution. "
   ]
  },
  {
   "cell_type": "markdown",
   "metadata": {},
   "source": [
    "When do we use threading?\n",
    "- When we significantly want to speed up our program by running the task concurrently\n",
    "\n",
    "- Now lets go ahead to see why you should use threading concept by simple examples:"
   ]
  },
  {
   "cell_type": "code",
   "execution_count": 3,
   "metadata": {},
   "outputs": [
    {
     "name": "stdout",
     "output_type": "stream",
     "text": [
      "Sleeping 1 second(s)...\n",
      "Done Sleeping...{seconds}\n",
      "Finished in 1.01 second(s)\n"
     ]
    }
   ],
   "source": [
    "''' Its a sleeping function example without using threading\n",
    "'''\n",
    "\n",
    "import time\n",
    "\n",
    "start = time.perf_counter()\n",
    "\n",
    "\n",
    "def Sleeping_Example(seconds):\n",
    "    \n",
    "    print(f'Sleeping {seconds} second(s)...')\n",
    "    \n",
    "    time.sleep(seconds)\n",
    "    \n",
    "    return print('Done Sleeping...{seconds}')\n",
    "\n",
    "Sleeping_Example(1)\n",
    "\n",
    "finish = time.perf_counter()\n",
    "\n",
    "print(f'Finished in {round(finish-start, 2)} second(s)')"
   ]
  },
  {
   "cell_type": "code",
   "execution_count": 5,
   "metadata": {},
   "outputs": [
    {
     "name": "stdout",
     "output_type": "stream",
     "text": [
      "Sleeping 1 second(s)...\n",
      "Done Sleeping...1\n",
      "Sleeping 1 second(s)...\n",
      "Done Sleeping...1\n",
      "Sleeping 1 second(s)...\n",
      "Done Sleeping...1\n",
      "Finished in 3.0 second(s)\n"
     ]
    }
   ],
   "source": [
    "''' Multiple time sleeping function is used without using threading\n",
    "'''\n",
    "import time\n",
    "\n",
    "start = time.perf_counter()\n",
    "\n",
    "\n",
    "def Sleeping_Example(seconds):\n",
    "    \n",
    "    print(f'Sleeping {seconds} second(s)')\n",
    "    \n",
    "    time.sleep(seconds)\n",
    "    \n",
    "    return print(f'Done Sleeping...{seconds}')\n",
    "\n",
    "Sleeping_Example(1)\n",
    "Sleeping_Example(1)\n",
    "Sleeping_Example(1)\n",
    "\n",
    "finish = time.perf_counter()\n",
    "\n",
    "print(f'Finished in {round(finish-start, 2)} second(s)')"
   ]
  },
  {
   "cell_type": "markdown",
   "metadata": {},
   "source": [
    "**Note:** Here we have called sleeping function 3 times. So its executing one by one so its taking 3 seconds to execute the following task.\n",
    "\n",
    "<img src=\"imgs/Thread_Diagram2.png\" width=\"700\"/>\n",
    "\n",
    "- Task execution happen here in synchronously, can be called as I/O bound task where CPU is waiting for Input and Output.\n",
    "- When the task is CPU bound, then we should use multiprocessing instead to multithreading (threading), we will see below section.\n"
   ]
  },
  {
   "cell_type": "code",
   "execution_count": 16,
   "metadata": {},
   "outputs": [
    {
     "name": "stdout",
     "output_type": "stream",
     "text": [
      "Sleeping 1 second(s).\n",
      "Sleeping 1 second(s).\n",
      "Sleeping 1 second(s).\n",
      "Done SleepingDone Sleeping\n",
      "Done Sleeping\n",
      "\n",
      "Finished in 1.03 second(s)\n"
     ]
    }
   ],
   "source": [
    "''' Multiple time sleeping function is used with using threading\n",
    "'''\n",
    "import threading\n",
    "import time\n",
    "\n",
    "start = time.perf_counter()\n",
    "\n",
    "\n",
    "def Sleeping_Example(seconds):\n",
    "    \n",
    "    print(f'Sleeping {seconds} second(s).')\n",
    "    \n",
    "    time.sleep(seconds)\n",
    "    \n",
    "    return print('Done Sleeping')\n",
    "\n",
    "threads_list = []## Creating a list of threading\n",
    "\n",
    "for _ in range(3): ## Function is called here 3 times\n",
    "    \n",
    "    t = threading.Thread(target=Sleeping_Example, args=[1]) ## args=1, passing 1 second\n",
    "    \n",
    "    t.start()\n",
    "    \n",
    "    threads_list.append(t) ## Adding each thread in the list\n",
    "    \n",
    "## Performing joining operation to insure it finishes all threading, then it go below for further execution\n",
    "for thread in threads_list:\n",
    "    \n",
    "    thread.join()\n",
    "\n",
    "finish = time.perf_counter()\n",
    "\n",
    "print(f'Finished in {round(finish-start, 2)} second(s)')"
   ]
  },
  {
   "cell_type": "markdown",
   "metadata": {},
   "source": [
    "<img src=\"imgs/Thread_Diagram3.png\" width=\"500\"/>\n",
    "- This diagram shows the execution process of threading, where it resumes the other task when one task is started"
   ]
  },
  {
   "cell_type": "code",
   "execution_count": 2,
   "metadata": {},
   "outputs": [
    {
     "name": "stdout",
     "output_type": "stream",
     "text": [
      "photo-1542281286-9e0a16bb7366.jpg downloaded...\n",
      "photo-1543739970-9f00688c2285.jpg downloaded...\n",
      "photo-1547185942-2b5661136b1b.jpg downloaded...\n",
      "photo-1493976040374-85c8e12f0c0e.jpg downloaded...\n",
      "photo-1543868100-d3b62207712e.jpg downloaded...\n",
      "photo-1542640244-7e672d6cef4e.jpg downloaded...\n",
      "photo-1507143550189-fed454f93097.jpg downloaded...\n",
      "photo-1542397284385-6010376c5337.jpg downloaded...\n",
      "photo-1484053801020-3a74ca659b03.jpg downloaded...\n",
      "photo-1513938709626-033611b8cc03.jpg downloaded...\n",
      "Finished in 612.2280683 seconds\n"
     ]
    }
   ],
   "source": [
    "'''Its a application to download images without using threading \n",
    "and in output will see the time to complete this process.\n",
    "Note: Image quality is very high'''\n",
    "\n",
    "import requests\n",
    "import time\n",
    "import concurrent.futures\n",
    "\n",
    "urls = [\n",
    "    'https://images.unsplash.com/photo-1542281286-9e0a16bb7366',\n",
    "    'https://images.unsplash.com/photo-1543739970-9f00688c2285',\n",
    "    'https://images.unsplash.com/photo-1547185942-2b5661136b1b',\n",
    "    'https://images.unsplash.com/photo-1493976040374-85c8e12f0c0e',\n",
    "    'https://images.unsplash.com/photo-1543868100-d3b62207712e',\n",
    "    'https://images.unsplash.com/photo-1542640244-7e672d6cef4e',\n",
    "    'https://images.unsplash.com/photo-1507143550189-fed454f93097',\n",
    "    'https://images.unsplash.com/photo-1542397284385-6010376c5337',\n",
    "    'https://images.unsplash.com/photo-1484053801020-3a74ca659b03',\n",
    "    'https://images.unsplash.com/photo-1513938709626-033611b8cc03']\n",
    "\n",
    "start = time.perf_counter()\n",
    "\n",
    "## Function to download images\n",
    "for url in urls:\n",
    "    \n",
    "    im_bytes = requests.get(url).content ## Image Bytes\n",
    "    \n",
    "    im_name = url.split('/') ## Spliting based upon the '/'\n",
    "    \n",
    "    im_name = im_name[3] ## Takes only image name\n",
    "    \n",
    "    im_name = f'{im_name}.jpg' ## Image name with postfix of '.jpg'\n",
    "    \n",
    "    ## Writing in bytes format\n",
    "    with open('DownloadImage/'+im_name, 'wb') as image: \n",
    "        image.write(im_bytes)\n",
    "        print(f'{im_name} downloaded...')\n",
    "\n",
    "\n",
    "finish = time.perf_counter()\n",
    "\n",
    "print(f'Finished in {finish-start} seconds')"
   ]
  },
  {
   "cell_type": "code",
   "execution_count": null,
   "metadata": {},
   "outputs": [
    {
     "name": "stdout",
     "output_type": "stream",
     "text": [
      "photo-1507143550189-fed454f93097.jpg downloaded...\n"
     ]
    }
   ],
   "source": [
    "'''Its a application to download images with using threading\n",
    "and in output will see the time to complete this process'''\n",
    "\n",
    "import requests\n",
    "import time\n",
    "import concurrent.futures\n",
    "\n",
    "urls = [\n",
    "    'https://images.unsplash.com/photo-1542281286-9e0a16bb7366',\n",
    "    'https://images.unsplash.com/photo-1543739970-9f00688c2285',\n",
    "    'https://images.unsplash.com/photo-1547185942-2b5661136b1b',\n",
    "    'https://images.unsplash.com/photo-1493976040374-85c8e12f0c0e',\n",
    "    'https://images.unsplash.com/photo-1543868100-d3b62207712e',\n",
    "    'https://images.unsplash.com/photo-1542640244-7e672d6cef4e',\n",
    "    'https://images.unsplash.com/photo-1507143550189-fed454f93097',\n",
    "    'https://images.unsplash.com/photo-1542397284385-6010376c5337',\n",
    "    'https://images.unsplash.com/photo-1484053801020-3a74ca659b03',\n",
    "    'https://images.unsplash.com/photo-1513938709626-033611b8cc03']\n",
    "\n",
    "start = time.perf_counter()\n",
    "\n",
    "## Function to download images\n",
    "def image_download(url):\n",
    "    \n",
    "    im_bytes = requests.get(url).content ## Image Bytes\n",
    "    \n",
    "    im_name = url.split('/') ## Spliting based upon the '/'\n",
    "    \n",
    "    im_name = im_name[3] ## Takes only image name\n",
    "    \n",
    "    im_name = f'{im_name}.jpg' ## Image name with postfix of '.jpg'\n",
    "    \n",
    "    ## Writing in bytes format\n",
    "    with open('DownloadImage/'+im_name, 'wb') as image: \n",
    "        image.write(im_bytes)\n",
    "        print(f'{im_name} downloaded...')\n",
    "\n",
    "## Creating number of thread as per the images\n",
    "with concurrent.futures.ThreadPoolExecutor() as executor:\n",
    "    executor.map(image_download, urls)\n",
    "\n",
    "\n",
    "finish = time.perf_counter()\n",
    "\n",
    "print(f'Finished in {finish-start} seconds')"
   ]
  },
  {
   "cell_type": "markdown",
   "metadata": {},
   "source": [
    "**Note:** Downloading time is also depends upon the network speed.\n",
    "\n",
    "**Note:** When you required to do some large CPU computation such as resizing the images, here we required to perform `multiprocessing` "
   ]
  },
  {
   "cell_type": "markdown",
   "metadata": {},
   "source": [
    "## 20.3 Multiprocessing\n",
    "- Here, we are going to spread our task in multiple machine.\n",
    "- All the task are running at same time in multi processor\n",
    "\n",
    "<img src=\"imgs/MultiProcessing_Diagram.png\" width=\"600\"/>"
   ]
  },
  {
   "cell_type": "code",
   "execution_count": 11,
   "metadata": {},
   "outputs": [
    {
     "name": "stdout",
     "output_type": "stream",
     "text": [
      "Finished in 0.52 second(s)\n"
     ]
    }
   ],
   "source": [
    "''' Multiple time sleeping function is used with using multiprocessing\n",
    "'''\n",
    "import multiprocessing\n",
    "import time\n",
    "\n",
    "start = time.perf_counter()\n",
    "\n",
    "\n",
    "def Sleeping_Example(seconds):\n",
    "    \n",
    "    print(f'Sleeping {seconds} second(s).')\n",
    "    \n",
    "    time.sleep(1)\n",
    "    \n",
    "    print('Done Sleeping')\n",
    "\n",
    "if __name__ == '__main__':\n",
    "\n",
    "    multiprocessing_list = []## Creating a list of multiprocessing\n",
    "\n",
    "    for _ in range(3): ## Function is called here 3 times\n",
    "\n",
    "        p = multiprocessing.Process(target=Sleeping_Example ,args=[1]) ## args=1, passing 1 second\n",
    "\n",
    "        p.start()\n",
    "        multiprocessing_list.append(p) ## Adding each processing in the list\n",
    "\n",
    "    ## Performing joining operation to insure it finishes all multiprocessing, then it go below for further execution\n",
    "    for process in multiprocessing_list:\n",
    "        process.join()\n",
    "\n",
    "    finish = time.perf_counter()\n",
    "\n",
    "    print(f'Finished in {round(finish-start, 2)} second(s)')"
   ]
  },
  {
   "cell_type": "markdown",
   "metadata": {},
   "source": [
    "**Note:** The same code has executed in text editor to see the print statement\n",
    "\n",
    "<img src=\"imgs/MultiProcessing_Diagram2.png\" width=\"700\"/>\n",
    "\n",
    "- We got the printed statement sleep function and working of above code is shown in below diagram\n",
    "\n",
    "<img src=\"imgs/MultiProcessing_Diagram3.png\" width=\"500\"/>\n",
    "\n",
    "- Each process are runing simultaneously to execute the assign task, in our case we have assigned three process"
   ]
  },
  {
   "cell_type": "code",
   "execution_count": 5,
   "metadata": {},
   "outputs": [
    {
     "name": "stdout",
     "output_type": "stream",
     "text": [
      "photo-1484053801020-3a74ca659b03.jpg completed...\n",
      "photo-1493976040374-85c8e12f0c0e.jpg completed...\n",
      "photo-1507143550189-fed454f93097.jpg completed...\n",
      "photo-1513938709626-033611b8cc03.jpg completed...\n",
      "photo-1542281286-9e0a16bb7366.jpg completed...\n",
      "photo-1542397284385-6010376c5337.jpg completed...\n",
      "photo-1542640244-7e672d6cef4e.jpg completed...\n",
      "photo-1543739970-9f00688c2285.jpg completed...\n",
      "photo-1543868100-d3b62207712e.jpg completed...\n",
      "photo-1547185942-2b5661136b1b.jpg completed...\n",
      "Finished in 35.267523600000004 seconds\n"
     ]
    }
   ],
   "source": [
    "'''\n",
    "Its a code to resize and blur image without using multiprocessing\n",
    "'''\n",
    "import time\n",
    "from pil import Image, ImageFilter\n",
    "import fnmatch\n",
    "import os\n",
    "\n",
    "## List of images with extension pf .jpg\n",
    "im_names = [f for f in os.listdir(os.getcwd()+'\\\\DownloadImages') if fnmatch.fnmatch(f, '*.jpg')]\n",
    "\n",
    "start = time.perf_counter()## Start counter\n",
    "\n",
    "size = (1000, 1000)## Specified size\n",
    "\n",
    "\n",
    "for im_name in im_names: ## Iterating over the list of image names\n",
    "    \n",
    "    image = Image.open(f'DownloadImages/{im_name}')## the image name from Folder\n",
    "\n",
    "    image = image.filter(ImageFilter.GaussianBlur(15))## To add Gaussian Noise\n",
    "\n",
    "    image.thumbnail(size)## Resize the Image\n",
    "    \n",
    "    image.save(f'ModifiedImages/{im_name}') ## Save image to a specified folder\n",
    "    \n",
    "    print(f'{im_name} completed...')## Printing completed statement\n",
    "\n",
    "finish = time.perf_counter()##End Counter\n",
    "\n",
    "print(f'Finished in {finish-start} seconds')## Execution time of complete process"
   ]
  },
  {
   "cell_type": "markdown",
   "metadata": {},
   "source": [
    "\n",
    "```ipython\n",
    "'''\n",
    "Its a code to resize and blur image with using multiprocessing\n",
    "'''\n",
    "import time\n",
    "from pil import Image, ImageFilter\n",
    "import concurrent.futures\n",
    "import fnmatch\n",
    "import os\n",
    "\n",
    "## List of images with extension pf .jpg\n",
    "im_names = [f for f in os.listdir(os.getcwd()+'\\\\DownloadImages') if fnmatch.fnmatch(f, '*.jpg')]\n",
    "start = time.perf_counter() ## Start counter\n",
    "size = (1000, 1000) ## Specified size\n",
    "\n",
    "def image_processing(im_name): ## Function to resize and blur the images\n",
    "    image = Image.open(f'DownloadImages/{im_name}') ## the image name from Folder\n",
    "    image = image.filter(ImageFilter.GaussianBlur(15)) ## To add Gaussian Noise\n",
    "    image.thumbnail(size) ## Resize the Image\n",
    "    image.save(f'ModifiedImages/{im_name}') ## Save image to a specified folder\n",
    "    print(f'{im_name} completed...') ## Printing completed statement\n",
    "    \n",
    "if __name__ == '__main__':\n",
    "    with concurrent.futures.ProcessPoolExecutor() as executor: ## Multiprocessing\n",
    "        executor.map(image_processing, im_names) ## Maping Function with Input image list\n",
    "        \n",
    "    finish = time.perf_counter() ##End Counter\n",
    "    print(f'Finished in {finish-start} seconds') ## Execution time of complete process\n",
    "```\n",
    "<img src=\"imgs/MultiProcessing_Diagram4.png\" width=\"700\"/>\n",
    "\n",
    "- This diagram shows the execution in pycharm with result"
   ]
  },
  {
   "cell_type": "code",
   "execution_count": null,
   "metadata": {},
   "outputs": [],
   "source": []
  },
  {
   "cell_type": "code",
   "execution_count": null,
   "metadata": {},
   "outputs": [],
   "source": []
  },
  {
   "cell_type": "code",
   "execution_count": null,
   "metadata": {},
   "outputs": [],
   "source": []
  },
  {
   "cell_type": "code",
   "execution_count": null,
   "metadata": {},
   "outputs": [],
   "source": [
    "\n"
   ]
  }
 ],
 "metadata": {
  "kernelspec": {
   "display_name": "Python 3",
   "language": "python",
   "name": "python3"
  },
  "language_info": {
   "codemirror_mode": {
    "name": "ipython",
    "version": 3
   },
   "file_extension": ".py",
   "mimetype": "text/x-python",
   "name": "python",
   "nbconvert_exporter": "python",
   "pygments_lexer": "ipython3",
   "version": "3.6.5"
  }
 },
 "nbformat": 4,
 "nbformat_minor": 2
}
