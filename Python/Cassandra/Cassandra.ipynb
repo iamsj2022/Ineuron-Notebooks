{
 "cells": [
  {
   "cell_type": "markdown",
   "metadata": {
    "colab_type": "text",
    "id": "L9dZZUB4drt_"
   },
   "source": [
    "<img src=\"https://d24cdstip7q8pz.cloudfront.net/t/ineuron1/content/common/images/final%20logo.png\" height=50 alt-text=\"iNeuron.ai logo\">"
   ]
  },
  {
   "cell_type": "markdown",
   "metadata": {
    "colab_type": "text",
    "id": "__8M5tkjdruC"
   },
   "source": [
    "## 12 Cassandra\n",
    "\n",
    "* The Apache Cassandra database is the right choice when you need scalability and high availability without compromising performance. \n",
    "* Linear scalability and proven fault-tolerance on commodity hardware or cloud infrastructure make it the perfect platform for mission-critical data. \n",
    "* Cassandra's support for replicating across multiple datacenters is best-in-class, providing lower latency for your users and the peace of mind of knowing that you can survive regional outages.\n",
    "\n",
    "**Major Companies which uses Cassandra**\n",
    "\n",
    "Cassandra is in use at Activision, Apple, BazaarVoice, Best Buy, CERN, Constant Contact, Comcast, eBay, Fidelity, Github, Hulu, ING, Instagram, Intuit, Macy's™, Macquarie Bank, Microsoft, McDonalds, Netflix, New York Times, Outbrain, Pearson Education, Sky, Spotify, Uber, Walmart, and thousands of other companies that have large, active data sets. In fact, Cassandra is used by 40% of the Fortune 100.\n",
    "\n",
    "### Top Features\n",
    "\n",
    "**FAULT TOLERANT:** Data is automatically replicated to multiple nodes for fault-tolerance. Replication across multiple data centers is supported. Failed nodes can be replaced with no downtime.\n",
    "\n",
    "**PERFORMANT:** Cassandra consistently outperforms popular NoSQL alternatives in benchmarks and real applications, primarily because of fundamental architectural choices.\n",
    "\n",
    "**DECENTRALIZED:** There are no single points of failure. There are no network bottlenecks. Every node in the cluster is identical.\n",
    "\n",
    "**SCALABLE:** Some of the largest production deployments include Apple's, with over 75,000 nodes storing over 10 PB of data, Netflix (2,500 nodes, 420 TB, over 1 trillion requests per day), Chinese search engine Easou (270 nodes, 300 TB, over 800 million requests per day), and eBay (over 100 nodes, 250 TB).\n",
    "\n",
    "**DURABLE:** Cassandra is suitable for applications that can't afford to lose data, even when an entire data center goes down.\n",
    "\n",
    "**YOU'RE IN CONTROL:** Choose between synchronous or asynchronous replication for each update. Highly available asynchronous operations are optimized with features like Hinted Handoff and Read Repair.\n",
    "\n",
    "**ELASTIC:** Read and write throughput both increase linearly as new machines are added, with no downtime or interruption to applications.\n",
    "\n",
    "**PROFESSIONALLY SUPPORTED:** Cassandra support contracts and services are available from third parties.\n",
    "\n",
    "[More Information](https://cassandra.apache.org/doc/latest/)\n"
   ]
  },
  {
   "cell_type": "markdown",
   "metadata": {
    "colab_type": "text",
    "id": "U_rFRdPbdruD"
   },
   "source": [
    "### STEPS\n",
    "**To run Cassandra with Python in Windows machine, follow this step by step process**\n",
    "\n",
    "- **Java Installation**\n",
    "- **Cassandra Installation**\n",
    "- **Python2 Installation**\n",
    "- **Apache Thrift Installation**\n",
    "- **Cassandra Execution with Python**"
   ]
  },
  {
   "cell_type": "code",
   "execution_count": null,
   "metadata": {},
   "outputs": [],
   "source": [
    "step no 1 - java - https://www.oracle.com/java/technologies/oracle-java-archive-downloads.html\n",
    "    \n",
    "step no 2 - download casandra  - https://www.apache.org/dyn/closer.lua/cassandra/3.11.10/apache-cassandra-3.11.10-bin.tar.gz\n",
    "\n",
    "step no 3 - download apache thirift server - https://thrift.apache.org/download\n",
    "    \n"
   ]
  },
  {
   "cell_type": "code",
   "execution_count": null,
   "metadata": {},
   "outputs": [],
   "source": []
  },
  {
   "cell_type": "markdown",
   "metadata": {
    "colab_type": "text",
    "id": "oB864CRcdruE"
   },
   "source": [
    "### 12.1 Java Installation\n",
    "* To run cassandra its necessary to have JAVA installed in the system\n",
    "* Go the offical ORACLE JAVA [link](https://www.oracle.com/java/technologies/javase-jre8-downloads.html) and download\n",
    "\n",
    "* Check the system type and download JAVA based upon that\n",
    "\n",
    "<img src=\"imgs/systeminfo.jpg\" width=\"600\"/>\n",
    "\n",
    "<img src=\"imgs/oracle_jre.jpg\" width=\"600\"/>\n",
    "\n",
    ">**Note:** In my case this particular [jre1.8.0_261] JAVA version was throwing an error so i have used jdk1.8.0_181. Previous release [Link](https://www.oracle.com/java/technologies/oracle-java-archive-downloads.html).\n",
    ">**Note:** Only JRE is required on any 7 or 8 version of JAVA\n",
    "\n",
    "* Download the file than double click to run and follow these given step as per the images.\n",
    "\n",
    "<img src=\"imgs/oracle_jre2.jpg\" width=\"500\"/>\n",
    "\n",
    "<img src=\"imgs/oracle_jre3.jpg\" width=\"500\"/>\n",
    "\n",
    "<img src=\"imgs/oracle_jre4.jpg\" width=\"500\"/>\n",
    "\n",
    "* To set the environment in local system, open `Environment Variable`\n",
    "\n",
    "<img src=\"imgs/environmentVariable.jpg\" width=\"400\"/>\n",
    "<img src=\"imgs/environmentVariable2.jpg\" width=\"500\"/>\n",
    "\n",
    ">**Note:** Put name as JAVA_HOME and paste the `C` drive path of java\n",
    "\n",
    "* In order to successfully verify the installation and PATH, run this given below command in command prompt\n",
    "```cmd\n",
    "java -version\n",
    "```\n",
    "\n",
    "* In order to verify the `Environment Variable` PATH, run this given below command in command prompt\n",
    "```cmd\n",
    "echo %JAVA_HOME%\n",
    "```\n"
   ]
  },
  {
   "cell_type": "markdown",
   "metadata": {
    "colab_type": "text",
    "id": "FmzwShJxdruG"
   },
   "source": [
    "### 12.2 Cassandra Installation\n",
    "\n",
    "* **[Link](https://cassandra.apache.org/download/)** for various version and operating system available to download.\n",
    "\n",
    "<img src=\"imgs/cassandra1.jpg\" width=\"600\"/>\n",
    "\n",
    "* In case of Windows, select the stable version and it will redirect to **[link](https://www.apache.org/dyn/closer.lua/cassandra/3.11.7/apache-cassandra-3.11.7-bin.tar.gz)**\n",
    "\n",
    "<img src=\"imgs/cassandra2.jpg\" width=\"600\"/>\n",
    "\n",
    "* Ones its downloaded, extract it.\n",
    "\n",
    "<img src=\"imgs/cassandra3.jpg\" width=\"600\"/>\n",
    "\n",
    "* Copy the whole extracted file and paste it on `C` drive.\n",
    "\n",
    "<img src=\"imgs/cassandra4.jpg\" width=\"600\"/>\n",
    "\n",
    "* Set the environment variable for `CASSANDRA_HOME`, as shown in below figure\n",
    "\n",
    "<img src=\"imgs/cassandra5.jpg\" width=\"500\"/>\n",
    "\n",
    "* In order to verify the `Environment Variable` PATH, run this given below command in command prompt\n",
    "```cmd\n",
    "echo %CASSANDRA_HOME%\n",
    "```\n",
    "\n",
    "<img src=\"imgs/cassandra6.jpg\" width=\"500\"/>\n"
   ]
  },
  {
   "cell_type": "markdown",
   "metadata": {
    "colab_type": "text",
    "id": "0XVeJibidruH"
   },
   "source": [
    "### 12.3 Python2 Installation\n",
    "\n",
    "* Here we required Python 2.X version\n",
    "* **[Link](https://www.python.org/downloads/)** to download the latest python2 version.\n",
    "\n",
    "* Or else we can directly intall by anaconda prompt.\n",
    "```cmd\n",
    "conda create --name python2 python=2.7\n",
    "```\n",
    "\n",
    "<img src=\"imgs/python2.jpg\" width=\"500\"/>\n",
    "\n",
    "* To check installed python version\n",
    "\n",
    "```cmd\n",
    "python --version\n",
    "```"
   ]
  },
  {
   "cell_type": "markdown",
   "metadata": {
    "colab_type": "text",
    "id": "zWAoyAjUdruJ"
   },
   "source": [
    "### 12.4 Apache Thrift Installation\n",
    "\n",
    "* Here we also required Apache Thrift, which is framework cross service scalable deployment.\n",
    "* **[Link](https://thrift.apache.org/download/)** to download.\n",
    "\n",
    "<img src=\"imgs/ApacheThrift1.jpg\" width=\"500\"/>\n",
    "\n",
    "<img src=\"imgs/ApacheThrift2.jpg\" width=\"500\"/>\n",
    "\n",
    ">**Note:** The installation is very simple as previous\n"
   ]
  },
  {
   "cell_type": "markdown",
   "metadata": {
    "colab_type": "text",
    "id": "1WMZ6RybdruL"
   },
   "source": [
    "### 12.5 Cassandra Execution with Python\n",
    "\n",
    "**Step1:** Open anaconda prompt and execute \n",
    "```cmd\n",
    "conda activate python2\n",
    "```\n",
    "\n",
    "**Step2:** Install cassandra driver for python\n",
    "```cmd\n",
    "pip install cassandra-driver\n",
    "```\n",
    "<img src=\"imgs/cassandra10.jpg\" width=\"500\"/>\n",
    "\n",
    "**Step3:** Now in order to run cassandra service, open new command prompt as administrator and redirect to cassandra folder path. \n",
    "\n",
    "<img src=\"imgs/cassandra7.jpg\" width=\"500\"/>\n",
    "\n",
    "```cmd\n",
    "cassandra.bat -h\n",
    "```\n",
    "\n",
    ">**Note:** It will start cassandra service\n",
    "\n",
    "**Step4:** Same anaconda command prompt is now getting used, first redirect to cassandra folder path. \n",
    "\n",
    "<img src=\"imgs/cassandra8.jpg\" width=\"500\"/>\n",
    "```cmd\n",
    "cqlsh\n",
    "```\n",
    ">**Note:** cqlsh will allows to intract with cassandra cluster which is running by `Step3`\n",
    "\n",
    "**Now we wanted to intract with python file. In order to do so we first create `key space`**\n",
    "\n",
    "**Step4:** Create KEYSPACE \n",
    "\n",
    "```cmd\n",
    "CREATE KEYSPACE test_keyspace WITH replication ={'class':'SimpleStrategy','replication_factor':'1'} AND durable_writes='true';\n",
    "```\n",
    "<img src=\"imgs/cassandra11_keyspace.jpg\" width=\"600\"/>\n",
    "\n",
    "**DROP KEYSPACE [KEYSPACE name];**\n",
    "\n",
    "**DESCRIBE KEYSPACE;**\n",
    "\n",
    "**CREATE KEYSPACE;**\n",
    "\n",
    "These command can be used as per requirements\n",
    "\n",
    "**Step5:** Create TABLE\n",
    "\n",
    "<img src=\"imgs/cassandra11_table.jpg\" width=\"600\"/>\n",
    "\n",
    "* Before creating table it required to select a KEYSPACE and in order to do so execute\n",
    "\n",
    "```cmd\n",
    "USE test_keyspace;\n",
    "```\n",
    "<img src=\"imgs/cassandra12_insertINtable.jpg\" width=\"600\"/>\n",
    "* To create table\n",
    "```cmd\n",
    "CREATE TABLE python_test(id uuid PRIMARY KEY,first_name,last_name)\n",
    "```\n",
    "\n",
    "**DROP TABLE [TABLE name];**\n",
    "\n",
    "**DESCRIBE TABLE [TABLE name];**\n",
    "\n",
    "**CREATE TABLE;**\n",
    "\n",
    "These command can be used as per requirements\n",
    "\n",
    "**Step6:** Execute Python Script file\n",
    "\n",
    "* Open anaconda prompt with base of `Python2`, loacte where python script file is present\n",
    "\n",
    "<img src=\"imgs/cassandra14.jpg\" width=\"600\"/>\n",
    "\n",
    "```cmd\n",
    "##To run python script file\n",
    "\n",
    "pyhton cassandratest\n",
    "```\n",
    "<img src=\"imgs/cassandra17.jpg\" width=\"600\"/>\n",
    "\n",
    "* Similary we can add more records over here.\n",
    "\n",
    "* Showing table directly at command prompt\n",
    "```cmd\n",
    "SELECT * FROM pyhton_test;\n",
    "```\n",
    "<img src=\"imgs/cassandra13.jpg\" width=\"600\"/>\n",
    "\n",
    "* Showing table by running python script file\n",
    "\n",
    "<img src=\"imgs/cassandra15.jpg\" width=\"600\"/>\n",
    "<img src=\"imgs/cassandra16.jpg\" width=\"600\"/>\n",
    "\n",
    ">**Note:** In this all execution process we had opened 2 Anaconda prompt with python2 and 1 Command prompt that used to run cassandra server."
   ]
  },
  {
   "cell_type": "markdown",
   "metadata": {
    "colab_type": "text",
    "id": "KApHxYggdruM"
   },
   "source": []
  },
  {
   "cell_type": "code",
   "execution_count": null,
   "metadata": {
    "colab": {},
    "colab_type": "code",
    "id": "JzF5gedTdruN"
   },
   "outputs": [],
   "source": []
  },
  {
   "cell_type": "code",
   "execution_count": null,
   "metadata": {
    "colab": {},
    "colab_type": "code",
    "id": "N4tJA9m4druU"
   },
   "outputs": [],
   "source": []
  }
 ],
 "metadata": {
  "colab": {
   "collapsed_sections": [],
   "name": "Cassandra.ipynb",
   "provenance": [],
   "toc_visible": true
  },
  "kernelspec": {
   "display_name": "Python 3",
   "language": "python",
   "name": "python3"
  },
  "language_info": {
   "codemirror_mode": {
    "name": "ipython",
    "version": 3
   },
   "file_extension": ".py",
   "mimetype": "text/x-python",
   "name": "python",
   "nbconvert_exporter": "python",
   "pygments_lexer": "ipython3",
   "version": "3.8.5"
  }
 },
 "nbformat": 4,
 "nbformat_minor": 1
}
