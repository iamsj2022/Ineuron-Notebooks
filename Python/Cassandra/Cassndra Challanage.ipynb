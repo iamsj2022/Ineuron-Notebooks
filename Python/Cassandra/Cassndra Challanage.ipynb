{
 "cells": [
  {
   "cell_type": "code",
   "execution_count": 1,
   "metadata": {},
   "outputs": [
    {
     "name": "stdout",
     "output_type": "stream",
     "text": [
      "3.25.0\n"
     ]
    }
   ],
   "source": [
    "import cassandra;\n",
    "print (cassandra.__version__)"
   ]
  },
  {
   "cell_type": "code",
   "execution_count": 2,
   "metadata": {},
   "outputs": [
    {
     "name": "stdout",
     "output_type": "stream",
     "text": [
      "4.0.0.6811\n"
     ]
    }
   ],
   "source": [
    "from cassandra.cluster import Cluster\n",
    "from cassandra.auth import PlainTextAuthProvider\n",
    "\n",
    "cloud_config= {\n",
    "        'secure_connect_bundle': 'D:\\DATA SCIENCE\\secure-connect-Ds.zip'\n",
    "}\n",
    "auth_provider = PlainTextAuthProvider('hPJWFtqiTGBRlSpwxMbTAEkM', 'CuyYrjYZyIiYejnxQqDMN6Jaqf3lGNzNroEumAatfsRe,XR1ZS7_KUDCXZSizZxkyMSlPuT5-4ew+MW4KZyA4B.KYu8Pal_4-28s8OcJZiiF5x5zpKlbK02XaATigpXu')\n",
    "cluster = Cluster(cloud=cloud_config, auth_provider=auth_provider)\n",
    "session = cluster.connect()\n",
    "\n",
    "row = session.execute(\"select release_version from system.local\").one()\n",
    "if row:\n",
    "    print(row[0])\n",
    "else:\n",
    "    print(\"An error occurred.\")"
   ]
  },
  {
   "cell_type": "code",
   "execution_count": 1,
   "metadata": {},
   "outputs": [
    {
     "ename": "Unauthorized",
     "evalue": "Error from server: code=2100 [Unauthorized] message=\"Missing correct permission on test.\"",
     "output_type": "error",
     "traceback": [
      "\u001b[1;31m---------------------------------------------------------------------------\u001b[0m",
      "\u001b[1;31mUnauthorized\u001b[0m                              Traceback (most recent call last)",
      "\u001b[1;32m<ipython-input-1-0ede6c85e0f0>\u001b[0m in \u001b[0;36m<module>\u001b[1;34m\u001b[0m\n\u001b[0;32m      8\u001b[0m \u001b[0mcluster\u001b[0m \u001b[1;33m=\u001b[0m \u001b[0mCluster\u001b[0m\u001b[1;33m(\u001b[0m\u001b[0mcloud\u001b[0m\u001b[1;33m=\u001b[0m\u001b[0mcloud_config\u001b[0m\u001b[1;33m,\u001b[0m \u001b[0mauth_provider\u001b[0m\u001b[1;33m=\u001b[0m\u001b[0mauth_provider\u001b[0m\u001b[1;33m)\u001b[0m\u001b[1;33m\u001b[0m\u001b[1;33m\u001b[0m\u001b[0m\n\u001b[0;32m      9\u001b[0m \u001b[0msession\u001b[0m \u001b[1;33m=\u001b[0m \u001b[0mcluster\u001b[0m\u001b[1;33m.\u001b[0m\u001b[0mconnect\u001b[0m\u001b[1;33m(\u001b[0m\u001b[1;33m)\u001b[0m\u001b[1;33m\u001b[0m\u001b[1;33m\u001b[0m\u001b[0m\n\u001b[1;32m---> 10\u001b[1;33m \u001b[0msession\u001b[0m\u001b[1;33m.\u001b[0m\u001b[0mexecute\u001b[0m\u001b[1;33m(\u001b[0m\u001b[1;34m\"create keyspace Test with replication={'class': 'SimpleStrategy', 'replication_factor' : 1};\"\u001b[0m\u001b[1;33m)\u001b[0m\u001b[1;33m\u001b[0m\u001b[1;33m\u001b[0m\u001b[0m\n\u001b[0m",
      "\u001b[1;32m~\\anaconda3\\lib\\site-packages\\cassandra\\cluster.cp38-win_amd64.pyd\u001b[0m in \u001b[0;36mcassandra.cluster.Session.execute\u001b[1;34m()\u001b[0m\n",
      "\u001b[1;32m~\\anaconda3\\lib\\site-packages\\cassandra\\cluster.cp38-win_amd64.pyd\u001b[0m in \u001b[0;36mcassandra.cluster.ResponseFuture.result\u001b[1;34m()\u001b[0m\n",
      "\u001b[1;31mUnauthorized\u001b[0m: Error from server: code=2100 [Unauthorized] message=\"Missing correct permission on test.\""
     ]
    }
   ],
   "source": [
    "from cassandra.cluster import Cluster\n",
    "from cassandra.auth import PlainTextAuthProvider\n",
    "\n",
    "cloud_config= {\n",
    "        'secure_connect_bundle': 'D:\\DATA SCIENCE\\secure-connect-Ds.zip'\n",
    "}\n",
    "auth_provider = PlainTextAuthProvider('hPJWFtqiTGBRlSpwxMbTAEkM', 'CuyYrjYZyIiYejnxQqDMN6Jaqf3lGNzNroEumAatfsRe,XR1ZS7_KUDCXZSizZxkyMSlPuT5-4ew+MW4KZyA4B.KYu8Pal_4-28s8OcJZiiF5x5zpKlbK02XaATigpXu')\n",
    "cluster = Cluster(cloud=cloud_config, auth_provider=auth_provider)\n",
    "session = cluster.connect()\n",
    "session.execute(\"create keyspace Test with replication={'class': 'SimpleStrategy', 'replication_factor' : 1};\")"
   ]
  },
  {
   "cell_type": "code",
   "execution_count": 2,
   "metadata": {},
   "outputs": [
    {
     "data": {
      "text/plain": [
       "<cassandra.cluster.ResultSet at 0x2487c63f8b0>"
      ]
     },
     "execution_count": 2,
     "metadata": {},
     "output_type": "execute_result"
    }
   ],
   "source": [
    "from cassandra.cluster import Cluster\n",
    "from cassandra.auth import PlainTextAuthProvider\n",
    "\n",
    "cloud_config= {\n",
    "        'secure_connect_bundle': 'D:\\DATA SCIENCE\\secure-connect-Ds.zip'\n",
    "}\n",
    "auth_provider = PlainTextAuthProvider('hPJWFtqiTGBRlSpwxMbTAEkM', 'CuyYrjYZyIiYejnxQqDMN6Jaqf3lGNzNroEumAatfsRe,XR1ZS7_KUDCXZSizZxkyMSlPuT5-4ew+MW4KZyA4B.KYu8Pal_4-28s8OcJZiiF5x5zpKlbK02XaATigpXu')\n",
    "cluster = Cluster(cloud=cloud_config, auth_provider=auth_provider)\n",
    "session = cluster.connect('Test')\n",
    "qry= \"create table students (studentID int,name text,age int,marks int,primary key(studentID));\"\n",
    "session.execute(qry)"
   ]
  },
  {
   "cell_type": "code",
   "execution_count": 3,
   "metadata": {},
   "outputs": [
    {
     "data": {
      "text/plain": [
       "<cassandra.cluster.ResultSet at 0x2487c7e7250>"
      ]
     },
     "execution_count": 3,
     "metadata": {},
     "output_type": "execute_result"
    }
   ],
   "source": [
    "from cassandra.cluster import Cluster\n",
    "from cassandra.auth import PlainTextAuthProvider\n",
    "\n",
    "cloud_config= {\n",
    "        'secure_connect_bundle': 'D:\\DATA SCIENCE\\secure-connect-Ds.zip'\n",
    "}\n",
    "auth_provider = PlainTextAuthProvider('hPJWFtqiTGBRlSpwxMbTAEkM', 'CuyYrjYZyIiYejnxQqDMN6Jaqf3lGNzNroEumAatfsRe,XR1ZS7_KUDCXZSizZxkyMSlPuT5-4ew+MW4KZyA4B.KYu8Pal_4-28s8OcJZiiF5x5zpKlbK02XaATigpXu')\n",
    "cluster = Cluster(cloud=cloud_config, auth_provider=auth_provider)\n",
    "session = cluster.connect('Test')\n",
    "session.execute(\"insert into students (studentID, name, age, marks) values(1, 'Juhi',20, 200);\")"
   ]
  },
  {
   "cell_type": "code",
   "execution_count": 9,
   "metadata": {},
   "outputs": [
    {
     "data": {
      "text/plain": [
       "<cassandra.cluster.ResultSet at 0x2487ca6ce20>"
      ]
     },
     "execution_count": 9,
     "metadata": {},
     "output_type": "execute_result"
    }
   ],
   "source": [
    "from cassandra.cluster import Cluster\n",
    "from cassandra.auth import PlainTextAuthProvider\n",
    "\n",
    "cloud_config= {\n",
    "        'secure_connect_bundle': 'D:\\DATA SCIENCE\\secure-connect-Ds.zip'\n",
    "}\n",
    "auth_provider = PlainTextAuthProvider('hPJWFtqiTGBRlSpwxMbTAEkM', 'CuyYrjYZyIiYejnxQqDMN6Jaqf3lGNzNroEumAatfsRe,XR1ZS7_KUDCXZSizZxkyMSlPuT5-4ew+MW4KZyA4B.KYu8Pal_4-28s8OcJZiiF5x5zpKlbK02XaATigpXu')\n",
    "cluster = Cluster(cloud=cloud_config, auth_provider=auth_provider)\n",
    "session = cluster.connect('Test')\n",
    "session.execute(\"insert into students (studentID, name, age, marks) values(2, 'ABC',23, 200);\")"
   ]
  },
  {
   "cell_type": "code",
   "execution_count": 10,
   "metadata": {},
   "outputs": [
    {
     "data": {
      "text/plain": [
       "<cassandra.cluster.ResultSet at 0x2487c8dd040>"
      ]
     },
     "execution_count": 10,
     "metadata": {},
     "output_type": "execute_result"
    }
   ],
   "source": [
    "from cassandra.cluster import Cluster\n",
    "from cassandra.auth import PlainTextAuthProvider\n",
    "\n",
    "cloud_config= {\n",
    "        'secure_connect_bundle': 'D:\\DATA SCIENCE\\secure-connect-Ds.zip'\n",
    "}\n",
    "auth_provider = PlainTextAuthProvider('hPJWFtqiTGBRlSpwxMbTAEkM', 'CuyYrjYZyIiYejnxQqDMN6Jaqf3lGNzNroEumAatfsRe,XR1ZS7_KUDCXZSizZxkyMSlPuT5-4ew+MW4KZyA4B.KYu8Pal_4-28s8OcJZiiF5x5zpKlbK02XaATigpXu')\n",
    "cluster = Cluster(cloud=cloud_config, auth_provider=auth_provider)\n",
    "session = cluster.connect('Test')\n",
    "session.execute(\"insert into students (studentID, name, age, marks) values(3, 'SAS',25, 200);\")"
   ]
  },
  {
   "cell_type": "code",
   "execution_count": 11,
   "metadata": {},
   "outputs": [
    {
     "data": {
      "text/plain": [
       "<cassandra.cluster.ResultSet at 0x2487cb7dca0>"
      ]
     },
     "execution_count": 11,
     "metadata": {},
     "output_type": "execute_result"
    }
   ],
   "source": [
    "from cassandra.cluster import Cluster\n",
    "from cassandra.auth import PlainTextAuthProvider\n",
    "\n",
    "cloud_config= {\n",
    "        'secure_connect_bundle': 'D:\\DATA SCIENCE\\secure-connect-Ds.zip'\n",
    "}\n",
    "auth_provider = PlainTextAuthProvider('hPJWFtqiTGBRlSpwxMbTAEkM', 'CuyYrjYZyIiYejnxQqDMN6Jaqf3lGNzNroEumAatfsRe,XR1ZS7_KUDCXZSizZxkyMSlPuT5-4ew+MW4KZyA4B.KYu8Pal_4-28s8OcJZiiF5x5zpKlbK02XaATigpXu')\n",
    "cluster = Cluster(cloud=cloud_config, auth_provider=auth_provider)\n",
    "session = cluster.connect('Test')\n",
    "session.execute(\"insert into students (studentID, name, age, marks) values(4, 'SAS',25, 200);\")"
   ]
  },
  {
   "cell_type": "code",
   "execution_count": 12,
   "metadata": {},
   "outputs": [
    {
     "data": {
      "text/plain": [
       "<cassandra.cluster.ResultSet at 0x2487cc07f10>"
      ]
     },
     "execution_count": 12,
     "metadata": {},
     "output_type": "execute_result"
    }
   ],
   "source": [
    "from cassandra.cluster import Cluster\n",
    "from cassandra.auth import PlainTextAuthProvider\n",
    "\n",
    "cloud_config= {\n",
    "        'secure_connect_bundle': 'D:\\DATA SCIENCE\\secure-connect-Ds.zip'\n",
    "}\n",
    "auth_provider = PlainTextAuthProvider('hPJWFtqiTGBRlSpwxMbTAEkM', 'CuyYrjYZyIiYejnxQqDMN6Jaqf3lGNzNroEumAatfsRe,XR1ZS7_KUDCXZSizZxkyMSlPuT5-4ew+MW4KZyA4B.KYu8Pal_4-28s8OcJZiiF5x5zpKlbK02XaATigpXu')\n",
    "cluster = Cluster(cloud=cloud_config, auth_provider=auth_provider)\n",
    "session = cluster.connect('Test')\n",
    "session.execute(\"insert into students (studentID, name, age, marks) values(5, 'SD',26, 200);\")"
   ]
  },
  {
   "cell_type": "code",
   "execution_count": 13,
   "metadata": {},
   "outputs": [
    {
     "data": {
      "text/plain": [
       "<cassandra.cluster.ResultSet at 0x2487cc70ee0>"
      ]
     },
     "execution_count": 13,
     "metadata": {},
     "output_type": "execute_result"
    }
   ],
   "source": [
    "from cassandra.cluster import Cluster\n",
    "from cassandra.auth import PlainTextAuthProvider\n",
    "\n",
    "cloud_config= {\n",
    "        'secure_connect_bundle': 'D:\\DATA SCIENCE\\secure-connect-Ds.zip'\n",
    "}\n",
    "auth_provider = PlainTextAuthProvider('hPJWFtqiTGBRlSpwxMbTAEkM', 'CuyYrjYZyIiYejnxQqDMN6Jaqf3lGNzNroEumAatfsRe,XR1ZS7_KUDCXZSizZxkyMSlPuT5-4ew+MW4KZyA4B.KYu8Pal_4-28s8OcJZiiF5x5zpKlbK02XaATigpXu')\n",
    "cluster = Cluster(cloud=cloud_config, auth_provider=auth_provider)\n",
    "session = cluster.connect('Test')\n",
    "session.execute(\"insert into students (studentID, name, age, marks) values(6, 'SXZD',26, 200);\")"
   ]
  },
  {
   "cell_type": "code",
   "execution_count": 14,
   "metadata": {},
   "outputs": [
    {
     "data": {
      "text/plain": [
       "<cassandra.cluster.ResultSet at 0x2487ccf0730>"
      ]
     },
     "execution_count": 14,
     "metadata": {},
     "output_type": "execute_result"
    }
   ],
   "source": [
    "from cassandra.cluster import Cluster\n",
    "from cassandra.auth import PlainTextAuthProvider\n",
    "\n",
    "cloud_config= {\n",
    "        'secure_connect_bundle': 'D:\\DATA SCIENCE\\secure-connect-Ds.zip'\n",
    "}\n",
    "auth_provider = PlainTextAuthProvider('hPJWFtqiTGBRlSpwxMbTAEkM', 'CuyYrjYZyIiYejnxQqDMN6Jaqf3lGNzNroEumAatfsRe,XR1ZS7_KUDCXZSizZxkyMSlPuT5-4ew+MW4KZyA4B.KYu8Pal_4-28s8OcJZiiF5x5zpKlbK02XaATigpXu')\n",
    "cluster = Cluster(cloud=cloud_config, auth_provider=auth_provider)\n",
    "session = cluster.connect('Test')\n",
    "session.execute(\"insert into students (studentID, name, age, marks) values(7, 'SXZD',26, 200);\")"
   ]
  },
  {
   "cell_type": "code",
   "execution_count": 15,
   "metadata": {},
   "outputs": [
    {
     "data": {
      "text/plain": [
       "<cassandra.cluster.ResultSet at 0x2487cd04c10>"
      ]
     },
     "execution_count": 15,
     "metadata": {},
     "output_type": "execute_result"
    }
   ],
   "source": [
    "from cassandra.cluster import Cluster\n",
    "from cassandra.auth import PlainTextAuthProvider\n",
    "\n",
    "cloud_config= {\n",
    "        'secure_connect_bundle': 'D:\\DATA SCIENCE\\secure-connect-Ds.zip'\n",
    "}\n",
    "auth_provider = PlainTextAuthProvider('hPJWFtqiTGBRlSpwxMbTAEkM', 'CuyYrjYZyIiYejnxQqDMN6Jaqf3lGNzNroEumAatfsRe,XR1ZS7_KUDCXZSizZxkyMSlPuT5-4ew+MW4KZyA4B.KYu8Pal_4-28s8OcJZiiF5x5zpKlbK02XaATigpXu')\n",
    "cluster = Cluster(cloud=cloud_config, auth_provider=auth_provider)\n",
    "session = cluster.connect('Test')\n",
    "session.execute(\"insert into students (studentID, name, age, marks) values(8, 'SXZD',26, 200);\")"
   ]
  },
  {
   "cell_type": "code",
   "execution_count": 16,
   "metadata": {},
   "outputs": [
    {
     "data": {
      "text/plain": [
       "<cassandra.cluster.ResultSet at 0x2487cdca730>"
      ]
     },
     "execution_count": 16,
     "metadata": {},
     "output_type": "execute_result"
    }
   ],
   "source": [
    "from cassandra.cluster import Cluster\n",
    "from cassandra.auth import PlainTextAuthProvider\n",
    "\n",
    "cloud_config= {\n",
    "        'secure_connect_bundle': 'D:\\DATA SCIENCE\\secure-connect-Ds.zip'\n",
    "}\n",
    "auth_provider = PlainTextAuthProvider('hPJWFtqiTGBRlSpwxMbTAEkM', 'CuyYrjYZyIiYejnxQqDMN6Jaqf3lGNzNroEumAatfsRe,XR1ZS7_KUDCXZSizZxkyMSlPuT5-4ew+MW4KZyA4B.KYu8Pal_4-28s8OcJZiiF5x5zpKlbK02XaATigpXu')\n",
    "cluster = Cluster(cloud=cloud_config, auth_provider=auth_provider)\n",
    "session = cluster.connect('Test')\n",
    "session.execute(\"insert into students (studentID, name, age, marks) values(9, 'SXZD',26, 200);\")"
   ]
  },
  {
   "cell_type": "code",
   "execution_count": 17,
   "metadata": {},
   "outputs": [
    {
     "data": {
      "text/plain": [
       "<cassandra.cluster.ResultSet at 0x2487ce40820>"
      ]
     },
     "execution_count": 17,
     "metadata": {},
     "output_type": "execute_result"
    }
   ],
   "source": [
    "from cassandra.cluster import Cluster\n",
    "from cassandra.auth import PlainTextAuthProvider\n",
    "\n",
    "cloud_config= {\n",
    "        'secure_connect_bundle': 'D:\\DATA SCIENCE\\secure-connect-Ds.zip'\n",
    "}\n",
    "auth_provider = PlainTextAuthProvider('hPJWFtqiTGBRlSpwxMbTAEkM', 'CuyYrjYZyIiYejnxQqDMN6Jaqf3lGNzNroEumAatfsRe,XR1ZS7_KUDCXZSizZxkyMSlPuT5-4ew+MW4KZyA4B.KYu8Pal_4-28s8OcJZiiF5x5zpKlbK02XaATigpXu')\n",
    "cluster = Cluster(cloud=cloud_config, auth_provider=auth_provider)\n",
    "session = cluster.connect('Test')\n",
    "session.execute(\"insert into students (studentID, name, age, marks) values(10, 'SXZD',26, 200);\")"
   ]
  },
  {
   "cell_type": "code",
   "execution_count": 18,
   "metadata": {},
   "outputs": [
    {
     "data": {
      "text/plain": [
       "<cassandra.cluster.ResultSet at 0x2487caddb20>"
      ]
     },
     "execution_count": 18,
     "metadata": {},
     "output_type": "execute_result"
    }
   ],
   "source": [
    "from cassandra.cluster import Cluster\n",
    "from cassandra.auth import PlainTextAuthProvider\n",
    "\n",
    "cloud_config= {\n",
    "        'secure_connect_bundle': 'D:\\DATA SCIENCE\\secure-connect-Ds.zip'\n",
    "}\n",
    "auth_provider = PlainTextAuthProvider('hPJWFtqiTGBRlSpwxMbTAEkM', 'CuyYrjYZyIiYejnxQqDMN6Jaqf3lGNzNroEumAatfsRe,XR1ZS7_KUDCXZSizZxkyMSlPuT5-4ew+MW4KZyA4B.KYu8Pal_4-28s8OcJZiiF5x5zpKlbK02XaATigpXu')\n",
    "cluster = Cluster(cloud=cloud_config, auth_provider=auth_provider)\n",
    "session = cluster.connect('Test')\n",
    "session.execute(\"insert into students (studentID, name, age, marks) values(11, 'SXZD',26, 200);\")"
   ]
  },
  {
   "cell_type": "code",
   "execution_count": 19,
   "metadata": {},
   "outputs": [
    {
     "data": {
      "text/plain": [
       "<cassandra.cluster.ResultSet at 0x2487cf0e730>"
      ]
     },
     "execution_count": 19,
     "metadata": {},
     "output_type": "execute_result"
    }
   ],
   "source": [
    "from cassandra.cluster import Cluster\n",
    "from cassandra.auth import PlainTextAuthProvider\n",
    "\n",
    "cloud_config= {\n",
    "        'secure_connect_bundle': 'D:\\DATA SCIENCE\\secure-connect-Ds.zip'\n",
    "}\n",
    "auth_provider = PlainTextAuthProvider('hPJWFtqiTGBRlSpwxMbTAEkM', 'CuyYrjYZyIiYejnxQqDMN6Jaqf3lGNzNroEumAatfsRe,XR1ZS7_KUDCXZSizZxkyMSlPuT5-4ew+MW4KZyA4B.KYu8Pal_4-28s8OcJZiiF5x5zpKlbK02XaATigpXu')\n",
    "cluster = Cluster(cloud=cloud_config, auth_provider=auth_provider)\n",
    "session = cluster.connect('Test')\n",
    "session.execute(\"insert into students (studentID, name, age, marks) values(12, 'SXZD',26, 200);\")"
   ]
  },
  {
   "cell_type": "code",
   "execution_count": 20,
   "metadata": {},
   "outputs": [
    {
     "data": {
      "text/plain": [
       "<cassandra.cluster.ResultSet at 0x2487cf3cb50>"
      ]
     },
     "execution_count": 20,
     "metadata": {},
     "output_type": "execute_result"
    }
   ],
   "source": [
    "from cassandra.cluster import Cluster\n",
    "from cassandra.auth import PlainTextAuthProvider\n",
    "\n",
    "cloud_config= {\n",
    "        'secure_connect_bundle': 'D:\\DATA SCIENCE\\secure-connect-Ds.zip'\n",
    "}\n",
    "auth_provider = PlainTextAuthProvider('hPJWFtqiTGBRlSpwxMbTAEkM', 'CuyYrjYZyIiYejnxQqDMN6Jaqf3lGNzNroEumAatfsRe,XR1ZS7_KUDCXZSizZxkyMSlPuT5-4ew+MW4KZyA4B.KYu8Pal_4-28s8OcJZiiF5x5zpKlbK02XaATigpXu')\n",
    "cluster = Cluster(cloud=cloud_config, auth_provider=auth_provider)\n",
    "session = cluster.connect('Test')\n",
    "session.execute(\"insert into students (studentID, name, age, marks) values(13, 'SXZD',26, 200);\")"
   ]
  },
  {
   "cell_type": "code",
   "execution_count": 21,
   "metadata": {},
   "outputs": [
    {
     "data": {
      "text/plain": [
       "<cassandra.cluster.ResultSet at 0x2487cfe9730>"
      ]
     },
     "execution_count": 21,
     "metadata": {},
     "output_type": "execute_result"
    }
   ],
   "source": [
    "from cassandra.cluster import Cluster\n",
    "from cassandra.auth import PlainTextAuthProvider\n",
    "\n",
    "cloud_config= {\n",
    "        'secure_connect_bundle': 'D:\\DATA SCIENCE\\secure-connect-Ds.zip'\n",
    "}\n",
    "auth_provider = PlainTextAuthProvider('hPJWFtqiTGBRlSpwxMbTAEkM', 'CuyYrjYZyIiYejnxQqDMN6Jaqf3lGNzNroEumAatfsRe,XR1ZS7_KUDCXZSizZxkyMSlPuT5-4ew+MW4KZyA4B.KYu8Pal_4-28s8OcJZiiF5x5zpKlbK02XaATigpXu')\n",
    "cluster = Cluster(cloud=cloud_config, auth_provider=auth_provider)\n",
    "session = cluster.connect('Test')\n",
    "session.execute(\"insert into students (studentID, name, age, marks) values(14, 'SXZD',26, 200);\")"
   ]
  },
  {
   "cell_type": "code",
   "execution_count": 22,
   "metadata": {},
   "outputs": [
    {
     "data": {
      "text/plain": [
       "<cassandra.cluster.ResultSet at 0x2487cb10eb0>"
      ]
     },
     "execution_count": 22,
     "metadata": {},
     "output_type": "execute_result"
    }
   ],
   "source": [
    "from cassandra.cluster import Cluster\n",
    "from cassandra.auth import PlainTextAuthProvider\n",
    "\n",
    "cloud_config= {\n",
    "        'secure_connect_bundle': 'D:\\DATA SCIENCE\\secure-connect-Ds.zip'\n",
    "}\n",
    "auth_provider = PlainTextAuthProvider('hPJWFtqiTGBRlSpwxMbTAEkM', 'CuyYrjYZyIiYejnxQqDMN6Jaqf3lGNzNroEumAatfsRe,XR1ZS7_KUDCXZSizZxkyMSlPuT5-4ew+MW4KZyA4B.KYu8Pal_4-28s8OcJZiiF5x5zpKlbK02XaATigpXu')\n",
    "cluster = Cluster(cloud=cloud_config, auth_provider=auth_provider)\n",
    "session = cluster.connect('Test')\n",
    "session.execute(\"insert into students (studentID, name, age, marks) values(15, 'SXZD',26, 200);\")"
   ]
  },
  {
   "cell_type": "code",
   "execution_count": null,
   "metadata": {},
   "outputs": [],
   "source": []
  },
  {
   "cell_type": "code",
   "execution_count": 23,
   "metadata": {},
   "outputs": [
    {
     "name": "stdout",
     "output_type": "stream",
     "text": [
      "StudentID: 5 Name:26 Age:200 Marks:SD\n",
      "StudentID: 10 Name:26 Age:200 Marks:SXZD\n",
      "StudentID: 13 Name:26 Age:200 Marks:SXZD\n",
      "StudentID: 11 Name:26 Age:200 Marks:SXZD\n",
      "StudentID: 1 Name:20 Age:200 Marks:Juhi\n",
      "StudentID: 8 Name:26 Age:200 Marks:SXZD\n",
      "StudentID: 2 Name:23 Age:200 Marks:ABC\n",
      "StudentID: 4 Name:25 Age:200 Marks:SAS\n",
      "StudentID: 15 Name:26 Age:200 Marks:SXZD\n",
      "StudentID: 7 Name:26 Age:200 Marks:SXZD\n",
      "StudentID: 6 Name:26 Age:200 Marks:SXZD\n",
      "StudentID: 9 Name:26 Age:200 Marks:SXZD\n",
      "StudentID: 14 Name:26 Age:200 Marks:SXZD\n",
      "StudentID: 12 Name:26 Age:200 Marks:SXZD\n",
      "StudentID: 3 Name:25 Age:200 Marks:SAS\n"
     ]
    }
   ],
   "source": [
    "from cassandra.cluster import Cluster\n",
    "from cassandra.auth import PlainTextAuthProvider\n",
    "\n",
    "cloud_config= {\n",
    "        'secure_connect_bundle': 'D:\\DATA SCIENCE\\secure-connect-Ds.zip'\n",
    "}\n",
    "auth_provider = PlainTextAuthProvider('hPJWFtqiTGBRlSpwxMbTAEkM', 'CuyYrjYZyIiYejnxQqDMN6Jaqf3lGNzNroEumAatfsRe,XR1ZS7_KUDCXZSizZxkyMSlPuT5-4ew+MW4KZyA4B.KYu8Pal_4-28s8OcJZiiF5x5zpKlbK02XaATigpXu')\n",
    "cluster = Cluster(cloud=cloud_config, auth_provider=auth_provider)\n",
    "session = cluster.connect('Test')\n",
    "\n",
    "rows=session.execute(\"select * from students;\")\n",
    "for row in rows:\n",
    "    #print(row)\n",
    "    print ('StudentID: {} Name:{} Age:{} Marks:{}'.format(row[0],row[1], row[2], row[3]))"
   ]
  },
  {
   "cell_type": "code",
   "execution_count": 24,
   "metadata": {},
   "outputs": [
    {
     "name": "stdout",
     "output_type": "stream",
     "text": [
      "StudentID: 5 Name:26 Age:200 Marks:SD\n"
     ]
    }
   ],
   "source": [
    "from cassandra.cluster import Cluster\n",
    "from cassandra.auth import PlainTextAuthProvider\n",
    "\n",
    "cloud_config= {\n",
    "        'secure_connect_bundle': 'D:\\DATA SCIENCE\\secure-connect-Ds.zip'\n",
    "}\n",
    "auth_provider = PlainTextAuthProvider('hPJWFtqiTGBRlSpwxMbTAEkM', 'CuyYrjYZyIiYejnxQqDMN6Jaqf3lGNzNroEumAatfsRe,XR1ZS7_KUDCXZSizZxkyMSlPuT5-4ew+MW4KZyA4B.KYu8Pal_4-28s8OcJZiiF5x5zpKlbK02XaATigpXu')\n",
    "cluster = Cluster(cloud=cloud_config, auth_provider=auth_provider)\n",
    "session = cluster.connect('Test')\n",
    "\n",
    "rows=session.execute(\"select * from students WHERE StudentID = 5;\")\n",
    "for row in rows:\n",
    "    #print(row)\n",
    "    print ('StudentID: {} Name:{} Age:{} Marks:{}'.format(row[0],row[1], row[2], row[3]))"
   ]
  },
  {
   "cell_type": "code",
   "execution_count": 28,
   "metadata": {},
   "outputs": [
    {
     "name": "stdout",
     "output_type": "stream",
     "text": [
      "StudentID: 6 Name:45 Age:500 Marks:Updated Name\n"
     ]
    }
   ],
   "source": [
    "from cassandra.cluster import Cluster\n",
    "from cassandra.auth import PlainTextAuthProvider\n",
    "\n",
    "cloud_config= {\n",
    "        'secure_connect_bundle': 'D:\\DATA SCIENCE\\secure-connect-Ds.zip'\n",
    "}\n",
    "auth_provider = PlainTextAuthProvider('hPJWFtqiTGBRlSpwxMbTAEkM', 'CuyYrjYZyIiYejnxQqDMN6Jaqf3lGNzNroEumAatfsRe,XR1ZS7_KUDCXZSizZxkyMSlPuT5-4ew+MW4KZyA4B.KYu8Pal_4-28s8OcJZiiF5x5zpKlbK02XaATigpXu')\n",
    "cluster = Cluster(cloud=cloud_config, auth_provider=auth_provider)\n",
    "session = cluster.connect('Test')\n",
    "\n",
    "session.execute(\"update students set name='Updated Name', age=45,marks=500 where StudentID = 6;\")\n",
    "rows=session.execute(\"select * from students WHERE StudentID = 6;\")\n",
    "for row in rows:\n",
    "    #print(row)\n",
    "    print ('StudentID: {} Name:{} Age:{} Marks:{}'.format(row[0],row[1], row[2], row[3]))\n"
   ]
  },
  {
   "cell_type": "code",
   "execution_count": 32,
   "metadata": {},
   "outputs": [
    {
     "name": "stdout",
     "output_type": "stream",
     "text": [
      "No data found\n"
     ]
    }
   ],
   "source": [
    "from cassandra.cluster import Cluster\n",
    "from cassandra.auth import PlainTextAuthProvider\n",
    "\n",
    "cloud_config= {\n",
    "        'secure_connect_bundle': 'D:\\DATA SCIENCE\\secure-connect-Ds.zip'\n",
    "}\n",
    "auth_provider = PlainTextAuthProvider('hPJWFtqiTGBRlSpwxMbTAEkM', 'CuyYrjYZyIiYejnxQqDMN6Jaqf3lGNzNroEumAatfsRe,XR1ZS7_KUDCXZSizZxkyMSlPuT5-4ew+MW4KZyA4B.KYu8Pal_4-28s8OcJZiiF5x5zpKlbK02XaATigpXu')\n",
    "cluster = Cluster(cloud=cloud_config, auth_provider=auth_provider)\n",
    "session = cluster.connect('Test')\n",
    "\n",
    "session.execute(\"delete from students WHERE StudentID = 7;\")\n",
    "rows=session.execute(\"select * from students WHERE StudentID = 7;\")\n",
    "for row in rows:\n",
    "    #print(row)\n",
    "    print ('StudentID: {} Name:{} Age:{} Marks:{}'.format(row[0],row[1], row[2], row[3]))\n",
    "else:\n",
    "    print('No data found')"
   ]
  },
  {
   "cell_type": "code",
   "execution_count": 34,
   "metadata": {},
   "outputs": [
    {
     "name": "stdout",
     "output_type": "stream",
     "text": [
      "Row(count=14)\n"
     ]
    }
   ],
   "source": [
    "from cassandra.cluster import Cluster\n",
    "from cassandra.auth import PlainTextAuthProvider\n",
    "\n",
    "cloud_config= {\n",
    "        'secure_connect_bundle': 'D:\\DATA SCIENCE\\secure-connect-Ds.zip'\n",
    "}\n",
    "auth_provider = PlainTextAuthProvider('hPJWFtqiTGBRlSpwxMbTAEkM', 'CuyYrjYZyIiYejnxQqDMN6Jaqf3lGNzNroEumAatfsRe,XR1ZS7_KUDCXZSizZxkyMSlPuT5-4ew+MW4KZyA4B.KYu8Pal_4-28s8OcJZiiF5x5zpKlbK02XaATigpXu')\n",
    "cluster = Cluster(cloud=cloud_config, auth_provider=auth_provider)\n",
    "session = cluster.connect('Test')\n",
    "\n",
    "rows=session.execute(\"select count(*) from students;\")\n",
    "for row in rows:\n",
    "    print(row)\n",
    "    #print ('StudentID: {} Name:{} Age:{} Marks:{}'.format(row[0],row[1], row[2], row[3]))"
   ]
  },
  {
   "cell_type": "code",
   "execution_count": 35,
   "metadata": {},
   "outputs": [
    {
     "name": "stdout",
     "output_type": "stream",
     "text": [
      "Row(system_min_marks=200)\n"
     ]
    }
   ],
   "source": [
    "from cassandra.cluster import Cluster\n",
    "from cassandra.auth import PlainTextAuthProvider\n",
    "\n",
    "cloud_config= {\n",
    "        'secure_connect_bundle': 'D:\\DATA SCIENCE\\secure-connect-Ds.zip'\n",
    "}\n",
    "auth_provider = PlainTextAuthProvider('hPJWFtqiTGBRlSpwxMbTAEkM', 'CuyYrjYZyIiYejnxQqDMN6Jaqf3lGNzNroEumAatfsRe,XR1ZS7_KUDCXZSizZxkyMSlPuT5-4ew+MW4KZyA4B.KYu8Pal_4-28s8OcJZiiF5x5zpKlbK02XaATigpXu')\n",
    "cluster = Cluster(cloud=cloud_config, auth_provider=auth_provider)\n",
    "session = cluster.connect('Test')\n",
    "\n",
    "rows=session.execute(\"select MIN(marks) from students;\")\n",
    "for row in rows:\n",
    "    print(row)\n",
    "    #print ('StudentID: {} Name:{} Age:{} Marks:{}'.format(row[0],row[1], row[2], row[3]))"
   ]
  },
  {
   "cell_type": "code",
   "execution_count": 36,
   "metadata": {},
   "outputs": [
    {
     "name": "stdout",
     "output_type": "stream",
     "text": [
      "Row(system_max_marks=500)\n"
     ]
    }
   ],
   "source": [
    "from cassandra.cluster import Cluster\n",
    "from cassandra.auth import PlainTextAuthProvider\n",
    "\n",
    "cloud_config= {\n",
    "        'secure_connect_bundle': 'D:\\DATA SCIENCE\\secure-connect-Ds.zip'\n",
    "}\n",
    "auth_provider = PlainTextAuthProvider('hPJWFtqiTGBRlSpwxMbTAEkM', 'CuyYrjYZyIiYejnxQqDMN6Jaqf3lGNzNroEumAatfsRe,XR1ZS7_KUDCXZSizZxkyMSlPuT5-4ew+MW4KZyA4B.KYu8Pal_4-28s8OcJZiiF5x5zpKlbK02XaATigpXu')\n",
    "cluster = Cluster(cloud=cloud_config, auth_provider=auth_provider)\n",
    "session = cluster.connect('Test')\n",
    "\n",
    "rows=session.execute(\"select MAX(marks) from students;\")\n",
    "for row in rows:\n",
    "    print(row)\n",
    "    #print ('StudentID: {} Name:{} Age:{} Marks:{}'.format(row[0],row[1], row[2], row[3]))"
   ]
  },
  {
   "cell_type": "code",
   "execution_count": 37,
   "metadata": {},
   "outputs": [
    {
     "name": "stdout",
     "output_type": "stream",
     "text": [
      "Row(system_avg_marks=221)\n"
     ]
    }
   ],
   "source": [
    "from cassandra.cluster import Cluster\n",
    "from cassandra.auth import PlainTextAuthProvider\n",
    "\n",
    "cloud_config= {\n",
    "        'secure_connect_bundle': 'D:\\DATA SCIENCE\\secure-connect-Ds.zip'\n",
    "}\n",
    "auth_provider = PlainTextAuthProvider('hPJWFtqiTGBRlSpwxMbTAEkM', 'CuyYrjYZyIiYejnxQqDMN6Jaqf3lGNzNroEumAatfsRe,XR1ZS7_KUDCXZSizZxkyMSlPuT5-4ew+MW4KZyA4B.KYu8Pal_4-28s8OcJZiiF5x5zpKlbK02XaATigpXu')\n",
    "cluster = Cluster(cloud=cloud_config, auth_provider=auth_provider)\n",
    "session = cluster.connect('Test')\n",
    "\n",
    "rows=session.execute(\"select AVG(marks) from students;\")\n",
    "for row in rows:\n",
    "    print(row)\n",
    "    #print ('StudentID: {} Name:{} Age:{} Marks:{}'.format(row[0],row[1], row[2], row[3]))"
   ]
  },
  {
   "cell_type": "code",
   "execution_count": 38,
   "metadata": {},
   "outputs": [
    {
     "name": "stdout",
     "output_type": "stream",
     "text": [
      "Row(system_sum_marks=3100)\n"
     ]
    }
   ],
   "source": [
    "from cassandra.cluster import Cluster\n",
    "from cassandra.auth import PlainTextAuthProvider\n",
    "\n",
    "cloud_config= {\n",
    "        'secure_connect_bundle': 'D:\\DATA SCIENCE\\secure-connect-Ds.zip'\n",
    "}\n",
    "auth_provider = PlainTextAuthProvider('hPJWFtqiTGBRlSpwxMbTAEkM', 'CuyYrjYZyIiYejnxQqDMN6Jaqf3lGNzNroEumAatfsRe,XR1ZS7_KUDCXZSizZxkyMSlPuT5-4ew+MW4KZyA4B.KYu8Pal_4-28s8OcJZiiF5x5zpKlbK02XaATigpXu')\n",
    "cluster = Cluster(cloud=cloud_config, auth_provider=auth_provider)\n",
    "session = cluster.connect('Test')\n",
    "\n",
    "rows=session.execute(\"select SUM(marks) from students;\")\n",
    "for row in rows:\n",
    "    print(row)\n",
    "    #print ('StudentID: {} Name:{} Age:{} Marks:{}'.format(row[0],row[1], row[2], row[3]))"
   ]
  },
  {
   "cell_type": "code",
   "execution_count": 51,
   "metadata": {},
   "outputs": [
    {
     "name": "stdout",
     "output_type": "stream",
     "text": [
      "StudentID: 1 Name:20 Age:200 Marks:Juhi\n",
      "StudentID: 2 Name:23 Age:200 Marks:ABC\n",
      "StudentID: 3 Name:25 Age:200 Marks:SAS\n",
      "StudentID: 4 Name:25 Age:200 Marks:SAS\n",
      "StudentID: 5 Name:26 Age:200 Marks:SD\n"
     ]
    }
   ],
   "source": [
    "from cassandra.cluster import Cluster\n",
    "from cassandra.auth import PlainTextAuthProvider\n",
    "\n",
    "cloud_config= {\n",
    "        'secure_connect_bundle': 'D:\\DATA SCIENCE\\secure-connect-Ds.zip'\n",
    "}\n",
    "auth_provider = PlainTextAuthProvider('hPJWFtqiTGBRlSpwxMbTAEkM', 'CuyYrjYZyIiYejnxQqDMN6Jaqf3lGNzNroEumAatfsRe,XR1ZS7_KUDCXZSizZxkyMSlPuT5-4ew+MW4KZyA4B.KYu8Pal_4-28s8OcJZiiF5x5zpKlbK02XaATigpXu')\n",
    "cluster = Cluster(cloud=cloud_config, auth_provider=auth_provider)\n",
    "session = cluster.connect('Test')\n",
    "\n",
    "rows=session.execute(\"select * from students where StudentId in (1,2,3,4,5);\")\n",
    "for row in rows:\n",
    "    #print(row)\n",
    "    print ('StudentID: {} Name:{} Age:{} Marks:{}'.format(row[0],row[1], row[2], row[3]))"
   ]
  },
  {
   "cell_type": "code",
   "execution_count": 57,
   "metadata": {},
   "outputs": [
    {
     "name": "stdout",
     "output_type": "stream",
     "text": [
      "StudentID: 5 Name:26 Age:200 Marks:SD\n"
     ]
    }
   ],
   "source": [
    "from cassandra.cluster import Cluster\n",
    "from cassandra.auth import PlainTextAuthProvider\n",
    "\n",
    "cloud_config= {\n",
    "        'secure_connect_bundle': 'D:\\DATA SCIENCE\\secure-connect-Ds.zip'\n",
    "}\n",
    "auth_provider = PlainTextAuthProvider('hPJWFtqiTGBRlSpwxMbTAEkM', 'CuyYrjYZyIiYejnxQqDMN6Jaqf3lGNzNroEumAatfsRe,XR1ZS7_KUDCXZSizZxkyMSlPuT5-4ew+MW4KZyA4B.KYu8Pal_4-28s8OcJZiiF5x5zpKlbK02XaATigpXu')\n",
    "cluster = Cluster(cloud=cloud_config, auth_provider=auth_provider)\n",
    "session = cluster.connect('Test')\n",
    "\n",
    "rows=session.execute(\"select * from students where StudentId = 5 and name = 'SD' ALLOW FILTERING;\")\n",
    "for row in rows:\n",
    "    #print(row)\n",
    "    print ('StudentID: {} Name:{} Age:{} Marks:{}'.format(row[0],row[1], row[2], row[3]))"
   ]
  },
  {
   "cell_type": "code",
   "execution_count": 1,
   "metadata": {},
   "outputs": [
    {
     "ename": "SyntaxException",
     "evalue": "<Error from server: code=2000 [Syntax error in CQL query] message=\"line 1:43 no viable alternative at input 'or' (...students where StudentId = 5 [or]...)\">",
     "output_type": "error",
     "traceback": [
      "\u001b[1;31m---------------------------------------------------------------------------\u001b[0m",
      "\u001b[1;31mSyntaxException\u001b[0m                           Traceback (most recent call last)",
      "\u001b[1;32m<ipython-input-1-82bf510dc1af>\u001b[0m in \u001b[0;36m<module>\u001b[1;34m\u001b[0m\n\u001b[0;32m      9\u001b[0m \u001b[0msession\u001b[0m \u001b[1;33m=\u001b[0m \u001b[0mcluster\u001b[0m\u001b[1;33m.\u001b[0m\u001b[0mconnect\u001b[0m\u001b[1;33m(\u001b[0m\u001b[1;34m'Test'\u001b[0m\u001b[1;33m)\u001b[0m\u001b[1;33m\u001b[0m\u001b[1;33m\u001b[0m\u001b[0m\n\u001b[0;32m     10\u001b[0m \u001b[1;33m\u001b[0m\u001b[0m\n\u001b[1;32m---> 11\u001b[1;33m \u001b[0mrows\u001b[0m\u001b[1;33m=\u001b[0m\u001b[0msession\u001b[0m\u001b[1;33m.\u001b[0m\u001b[0mexecute\u001b[0m\u001b[1;33m(\u001b[0m\u001b[1;34m\"select * from students where StudentId = 5 or name = 'Juhi' ALLOW FILTERING;\"\u001b[0m\u001b[1;33m)\u001b[0m\u001b[1;33m\u001b[0m\u001b[1;33m\u001b[0m\u001b[0m\n\u001b[0m\u001b[0;32m     12\u001b[0m \u001b[1;32mfor\u001b[0m \u001b[0mrow\u001b[0m \u001b[1;32min\u001b[0m \u001b[0mrows\u001b[0m\u001b[1;33m:\u001b[0m\u001b[1;33m\u001b[0m\u001b[1;33m\u001b[0m\u001b[0m\n\u001b[0;32m     13\u001b[0m     \u001b[1;31m#print(row)\u001b[0m\u001b[1;33m\u001b[0m\u001b[1;33m\u001b[0m\u001b[1;33m\u001b[0m\u001b[0m\n",
      "\u001b[1;32m~\\anaconda3\\lib\\site-packages\\cassandra\\cluster.cp38-win_amd64.pyd\u001b[0m in \u001b[0;36mcassandra.cluster.Session.execute\u001b[1;34m()\u001b[0m\n",
      "\u001b[1;32m~\\anaconda3\\lib\\site-packages\\cassandra\\cluster.cp38-win_amd64.pyd\u001b[0m in \u001b[0;36mcassandra.cluster.ResponseFuture.result\u001b[1;34m()\u001b[0m\n",
      "\u001b[1;31mSyntaxException\u001b[0m: <Error from server: code=2000 [Syntax error in CQL query] message=\"line 1:43 no viable alternative at input 'or' (...students where StudentId = 5 [or]...)\">"
     ]
    }
   ],
   "source": [
    "from cassandra.cluster import Cluster\n",
    "from cassandra.auth import PlainTextAuthProvider\n",
    "\n",
    "cloud_config= {\n",
    "        'secure_connect_bundle': 'D:\\DATA SCIENCE\\secure-connect-Ds.zip'\n",
    "}\n",
    "auth_provider = PlainTextAuthProvider('hPJWFtqiTGBRlSpwxMbTAEkM', 'CuyYrjYZyIiYejnxQqDMN6Jaqf3lGNzNroEumAatfsRe,XR1ZS7_KUDCXZSizZxkyMSlPuT5-4ew+MW4KZyA4B.KYu8Pal_4-28s8OcJZiiF5x5zpKlbK02XaATigpXu')\n",
    "cluster = Cluster(cloud=cloud_config, auth_provider=auth_provider)\n",
    "session = cluster.connect('Test')\n",
    "\n",
    "rows=session.execute(\"select * from students where StudentId = 5 or name = 'Juhi' ALLOW FILTERING;\")\n",
    "for row in rows:\n",
    "    #print(row)\n",
    "    print ('StudentID: {} Name:{} Age:{} Marks:{}'.format(row[0],row[1], row[2], row[3]))"
   ]
  },
  {
   "cell_type": "code",
   "execution_count": 2,
   "metadata": {},
   "outputs": [
    {
     "name": "stdout",
     "output_type": "stream",
     "text": [
      "StudentID: 5 Name:26 Age:200 Marks:SD\n",
      "StudentID: 10 Name:26 Age:200 Marks:SXZD\n",
      "StudentID: 13 Name:26 Age:200 Marks:SXZD\n",
      "StudentID: 11 Name:26 Age:200 Marks:SXZD\n",
      "StudentID: 1 Name:20 Age:200 Marks:Juhi\n"
     ]
    }
   ],
   "source": [
    "from cassandra.cluster import Cluster\n",
    "from cassandra.auth import PlainTextAuthProvider\n",
    "\n",
    "cloud_config= {\n",
    "        'secure_connect_bundle': 'D:\\DATA SCIENCE\\secure-connect-Ds.zip'\n",
    "}\n",
    "auth_provider = PlainTextAuthProvider('hPJWFtqiTGBRlSpwxMbTAEkM', 'CuyYrjYZyIiYejnxQqDMN6Jaqf3lGNzNroEumAatfsRe,XR1ZS7_KUDCXZSizZxkyMSlPuT5-4ew+MW4KZyA4B.KYu8Pal_4-28s8OcJZiiF5x5zpKlbK02XaATigpXu')\n",
    "cluster = Cluster(cloud=cloud_config, auth_provider=auth_provider)\n",
    "session = cluster.connect('Test')\n",
    "\n",
    "rows=session.execute(\"select * from students limit 5 ALLOW FILTERING;\")\n",
    "for row in rows:\n",
    "    #print(row)\n",
    "    print ('StudentID: {} Name:{} Age:{} Marks:{}'.format(row[0],row[1], row[2], row[3]))"
   ]
  },
  {
   "cell_type": "code",
   "execution_count": 3,
   "metadata": {},
   "outputs": [
    {
     "ename": "InvalidRequest",
     "evalue": "Error from server: code=2200 [Invalid query] message=\"LIKE restriction is only supported on properly indexed columns. name LIKE 'd%' is not valid.\"",
     "output_type": "error",
     "traceback": [
      "\u001b[1;31m---------------------------------------------------------------------------\u001b[0m",
      "\u001b[1;31mInvalidRequest\u001b[0m                            Traceback (most recent call last)",
      "\u001b[1;32m<ipython-input-3-41c10caa246b>\u001b[0m in \u001b[0;36m<module>\u001b[1;34m\u001b[0m\n\u001b[0;32m      9\u001b[0m \u001b[0msession\u001b[0m \u001b[1;33m=\u001b[0m \u001b[0mcluster\u001b[0m\u001b[1;33m.\u001b[0m\u001b[0mconnect\u001b[0m\u001b[1;33m(\u001b[0m\u001b[1;34m'Test'\u001b[0m\u001b[1;33m)\u001b[0m\u001b[1;33m\u001b[0m\u001b[1;33m\u001b[0m\u001b[0m\n\u001b[0;32m     10\u001b[0m \u001b[1;33m\u001b[0m\u001b[0m\n\u001b[1;32m---> 11\u001b[1;33m \u001b[0mrows\u001b[0m\u001b[1;33m=\u001b[0m\u001b[0msession\u001b[0m\u001b[1;33m.\u001b[0m\u001b[0mexecute\u001b[0m\u001b[1;33m(\u001b[0m\u001b[1;34m\"select * from students where name like 'd%' ALLOW FILTERING;\"\u001b[0m\u001b[1;33m)\u001b[0m\u001b[1;33m\u001b[0m\u001b[1;33m\u001b[0m\u001b[0m\n\u001b[0m\u001b[0;32m     12\u001b[0m \u001b[1;32mfor\u001b[0m \u001b[0mrow\u001b[0m \u001b[1;32min\u001b[0m \u001b[0mrows\u001b[0m\u001b[1;33m:\u001b[0m\u001b[1;33m\u001b[0m\u001b[1;33m\u001b[0m\u001b[0m\n\u001b[0;32m     13\u001b[0m     \u001b[1;31m#print(row)\u001b[0m\u001b[1;33m\u001b[0m\u001b[1;33m\u001b[0m\u001b[1;33m\u001b[0m\u001b[0m\n",
      "\u001b[1;32m~\\anaconda3\\lib\\site-packages\\cassandra\\cluster.cp38-win_amd64.pyd\u001b[0m in \u001b[0;36mcassandra.cluster.Session.execute\u001b[1;34m()\u001b[0m\n",
      "\u001b[1;32m~\\anaconda3\\lib\\site-packages\\cassandra\\cluster.cp38-win_amd64.pyd\u001b[0m in \u001b[0;36mcassandra.cluster.ResponseFuture.result\u001b[1;34m()\u001b[0m\n",
      "\u001b[1;31mInvalidRequest\u001b[0m: Error from server: code=2200 [Invalid query] message=\"LIKE restriction is only supported on properly indexed columns. name LIKE 'd%' is not valid.\""
     ]
    }
   ],
   "source": [
    "from cassandra.cluster import Cluster\n",
    "from cassandra.auth import PlainTextAuthProvider\n",
    "\n",
    "cloud_config= {\n",
    "        'secure_connect_bundle': 'D:\\DATA SCIENCE\\secure-connect-Ds.zip'\n",
    "}\n",
    "auth_provider = PlainTextAuthProvider('hPJWFtqiTGBRlSpwxMbTAEkM', 'CuyYrjYZyIiYejnxQqDMN6Jaqf3lGNzNroEumAatfsRe,XR1ZS7_KUDCXZSizZxkyMSlPuT5-4ew+MW4KZyA4B.KYu8Pal_4-28s8OcJZiiF5x5zpKlbK02XaATigpXu')\n",
    "cluster = Cluster(cloud=cloud_config, auth_provider=auth_provider)\n",
    "session = cluster.connect('Test')\n",
    "\n",
    "rows=session.execute(\"select * from students where name like 'd%' ALLOW FILTERING;\")\n",
    "for row in rows:\n",
    "    #print(row)\n",
    "    print ('StudentID: {} Name:{} Age:{} Marks:{}'.format(row[0],row[1], row[2], row[3]))"
   ]
  },
  {
   "cell_type": "code",
   "execution_count": 4,
   "metadata": {},
   "outputs": [
    {
     "ename": "InvalidRequest",
     "evalue": "Error from server: code=2200 [Invalid query] message=\"LIKE restriction is only supported on properly indexed columns. name LIKE '%j' is not valid.\"",
     "output_type": "error",
     "traceback": [
      "\u001b[1;31m---------------------------------------------------------------------------\u001b[0m",
      "\u001b[1;31mInvalidRequest\u001b[0m                            Traceback (most recent call last)",
      "\u001b[1;32m<ipython-input-4-53ed222a8c3b>\u001b[0m in \u001b[0;36m<module>\u001b[1;34m\u001b[0m\n\u001b[0;32m      9\u001b[0m \u001b[0msession\u001b[0m \u001b[1;33m=\u001b[0m \u001b[0mcluster\u001b[0m\u001b[1;33m.\u001b[0m\u001b[0mconnect\u001b[0m\u001b[1;33m(\u001b[0m\u001b[1;34m'Test'\u001b[0m\u001b[1;33m)\u001b[0m\u001b[1;33m\u001b[0m\u001b[1;33m\u001b[0m\u001b[0m\n\u001b[0;32m     10\u001b[0m \u001b[1;33m\u001b[0m\u001b[0m\n\u001b[1;32m---> 11\u001b[1;33m \u001b[0mrows\u001b[0m\u001b[1;33m=\u001b[0m\u001b[0msession\u001b[0m\u001b[1;33m.\u001b[0m\u001b[0mexecute\u001b[0m\u001b[1;33m(\u001b[0m\u001b[1;34m\"select * from students where name like '%j' ALLOW FILTERING;\"\u001b[0m\u001b[1;33m)\u001b[0m\u001b[1;33m\u001b[0m\u001b[1;33m\u001b[0m\u001b[0m\n\u001b[0m\u001b[0;32m     12\u001b[0m \u001b[1;32mfor\u001b[0m \u001b[0mrow\u001b[0m \u001b[1;32min\u001b[0m \u001b[0mrows\u001b[0m\u001b[1;33m:\u001b[0m\u001b[1;33m\u001b[0m\u001b[1;33m\u001b[0m\u001b[0m\n\u001b[0;32m     13\u001b[0m     \u001b[1;31m#print(row)\u001b[0m\u001b[1;33m\u001b[0m\u001b[1;33m\u001b[0m\u001b[1;33m\u001b[0m\u001b[0m\n",
      "\u001b[1;32m~\\anaconda3\\lib\\site-packages\\cassandra\\cluster.cp38-win_amd64.pyd\u001b[0m in \u001b[0;36mcassandra.cluster.Session.execute\u001b[1;34m()\u001b[0m\n",
      "\u001b[1;32m~\\anaconda3\\lib\\site-packages\\cassandra\\cluster.cp38-win_amd64.pyd\u001b[0m in \u001b[0;36mcassandra.cluster.ResponseFuture.result\u001b[1;34m()\u001b[0m\n",
      "\u001b[1;31mInvalidRequest\u001b[0m: Error from server: code=2200 [Invalid query] message=\"LIKE restriction is only supported on properly indexed columns. name LIKE '%j' is not valid.\""
     ]
    }
   ],
   "source": [
    "from cassandra.cluster import Cluster\n",
    "from cassandra.auth import PlainTextAuthProvider\n",
    "\n",
    "cloud_config= {\n",
    "        'secure_connect_bundle': 'D:\\DATA SCIENCE\\secure-connect-Ds.zip'\n",
    "}\n",
    "auth_provider = PlainTextAuthProvider('hPJWFtqiTGBRlSpwxMbTAEkM', 'CuyYrjYZyIiYejnxQqDMN6Jaqf3lGNzNroEumAatfsRe,XR1ZS7_KUDCXZSizZxkyMSlPuT5-4ew+MW4KZyA4B.KYu8Pal_4-28s8OcJZiiF5x5zpKlbK02XaATigpXu')\n",
    "cluster = Cluster(cloud=cloud_config, auth_provider=auth_provider)\n",
    "session = cluster.connect('Test')\n",
    "\n",
    "rows=session.execute(\"select * from students where name like '%j' ALLOW FILTERING;\")\n",
    "for row in rows:\n",
    "    #print(row)\n",
    "    print ('StudentID: {} Name:{} Age:{} Marks:{}'.format(row[0],row[1], row[2], row[3]))"
   ]
  },
  {
   "cell_type": "code",
   "execution_count": 5,
   "metadata": {},
   "outputs": [
    {
     "ename": "InvalidRequest",
     "evalue": "Error from server: code=2200 [Invalid query] message=\"LIKE restriction is only supported on properly indexed columns. name LIKE '%d%' is not valid.\"",
     "output_type": "error",
     "traceback": [
      "\u001b[1;31m---------------------------------------------------------------------------\u001b[0m",
      "\u001b[1;31mInvalidRequest\u001b[0m                            Traceback (most recent call last)",
      "\u001b[1;32m<ipython-input-5-89d9dd3afdca>\u001b[0m in \u001b[0;36m<module>\u001b[1;34m\u001b[0m\n\u001b[0;32m      9\u001b[0m \u001b[0msession\u001b[0m \u001b[1;33m=\u001b[0m \u001b[0mcluster\u001b[0m\u001b[1;33m.\u001b[0m\u001b[0mconnect\u001b[0m\u001b[1;33m(\u001b[0m\u001b[1;34m'Test'\u001b[0m\u001b[1;33m)\u001b[0m\u001b[1;33m\u001b[0m\u001b[1;33m\u001b[0m\u001b[0m\n\u001b[0;32m     10\u001b[0m \u001b[1;33m\u001b[0m\u001b[0m\n\u001b[1;32m---> 11\u001b[1;33m \u001b[0mrows\u001b[0m\u001b[1;33m=\u001b[0m\u001b[0msession\u001b[0m\u001b[1;33m.\u001b[0m\u001b[0mexecute\u001b[0m\u001b[1;33m(\u001b[0m\u001b[1;34m\"select * from students where name like '%d%' ALLOW FILTERING;\"\u001b[0m\u001b[1;33m)\u001b[0m\u001b[1;33m\u001b[0m\u001b[1;33m\u001b[0m\u001b[0m\n\u001b[0m\u001b[0;32m     12\u001b[0m \u001b[1;32mfor\u001b[0m \u001b[0mrow\u001b[0m \u001b[1;32min\u001b[0m \u001b[0mrows\u001b[0m\u001b[1;33m:\u001b[0m\u001b[1;33m\u001b[0m\u001b[1;33m\u001b[0m\u001b[0m\n\u001b[0;32m     13\u001b[0m     \u001b[1;31m#print(row)\u001b[0m\u001b[1;33m\u001b[0m\u001b[1;33m\u001b[0m\u001b[1;33m\u001b[0m\u001b[0m\n",
      "\u001b[1;32m~\\anaconda3\\lib\\site-packages\\cassandra\\cluster.cp38-win_amd64.pyd\u001b[0m in \u001b[0;36mcassandra.cluster.Session.execute\u001b[1;34m()\u001b[0m\n",
      "\u001b[1;32m~\\anaconda3\\lib\\site-packages\\cassandra\\cluster.cp38-win_amd64.pyd\u001b[0m in \u001b[0;36mcassandra.cluster.ResponseFuture.result\u001b[1;34m()\u001b[0m\n",
      "\u001b[1;31mInvalidRequest\u001b[0m: Error from server: code=2200 [Invalid query] message=\"LIKE restriction is only supported on properly indexed columns. name LIKE '%d%' is not valid.\""
     ]
    }
   ],
   "source": [
    "from cassandra.cluster import Cluster\n",
    "from cassandra.auth import PlainTextAuthProvider\n",
    "\n",
    "cloud_config= {\n",
    "        'secure_connect_bundle': 'D:\\DATA SCIENCE\\secure-connect-Ds.zip'\n",
    "}\n",
    "auth_provider = PlainTextAuthProvider('hPJWFtqiTGBRlSpwxMbTAEkM', 'CuyYrjYZyIiYejnxQqDMN6Jaqf3lGNzNroEumAatfsRe,XR1ZS7_KUDCXZSizZxkyMSlPuT5-4ew+MW4KZyA4B.KYu8Pal_4-28s8OcJZiiF5x5zpKlbK02XaATigpXu')\n",
    "cluster = Cluster(cloud=cloud_config, auth_provider=auth_provider)\n",
    "session = cluster.connect('Test')\n",
    "\n",
    "rows=session.execute(\"select * from students where name like '%d%' ALLOW FILTERING;\")\n",
    "for row in rows:\n",
    "    #print(row)\n",
    "    print ('StudentID: {} Name:{} Age:{} Marks:{}'.format(row[0],row[1], row[2], row[3]))"
   ]
  },
  {
   "cell_type": "code",
   "execution_count": 8,
   "metadata": {
    "scrolled": true
   },
   "outputs": [
    {
     "name": "stdout",
     "output_type": "stream",
     "text": [
      "StudentID: 5 Name:26 Age:200 Marks:SD\n",
      "StudentID: 10 Name:26 Age:200 Marks:SXZD\n",
      "StudentID: 13 Name:26 Age:200 Marks:SXZD\n",
      "StudentID: 11 Name:26 Age:200 Marks:SXZD\n",
      "StudentID: 8 Name:26 Age:200 Marks:SXZD\n",
      "StudentID: 2 Name:23 Age:200 Marks:ABC\n",
      "StudentID: 4 Name:25 Age:200 Marks:SAS\n",
      "StudentID: 15 Name:26 Age:200 Marks:SXZD\n",
      "StudentID: 6 Name:45 Age:500 Marks:Updated Name\n",
      "StudentID: 9 Name:26 Age:200 Marks:SXZD\n",
      "StudentID: 14 Name:26 Age:200 Marks:SXZD\n",
      "StudentID: 12 Name:26 Age:200 Marks:SXZD\n",
      "StudentID: 3 Name:25 Age:200 Marks:SAS\n"
     ]
    }
   ],
   "source": [
    "from cassandra.cluster import Cluster\n",
    "from cassandra.auth import PlainTextAuthProvider\n",
    "\n",
    "cloud_config= {\n",
    "        'secure_connect_bundle': 'D:\\DATA SCIENCE\\secure-connect-Ds.zip'\n",
    "}\n",
    "auth_provider = PlainTextAuthProvider('hPJWFtqiTGBRlSpwxMbTAEkM', 'CuyYrjYZyIiYejnxQqDMN6Jaqf3lGNzNroEumAatfsRe,XR1ZS7_KUDCXZSizZxkyMSlPuT5-4ew+MW4KZyA4B.KYu8Pal_4-28s8OcJZiiF5x5zpKlbK02XaATigpXu')\n",
    "cluster = Cluster(cloud=cloud_config, auth_provider=auth_provider)\n",
    "session = cluster.connect('Test')\n",
    "\n",
    "rows=session.execute(\"select * from students WHERE age>20 allow filtering;\")\n",
    "for row in rows:\n",
    "    #print(row)\n",
    "    print ('StudentID: {} Name:{} Age:{} Marks:{}'.format(row[0],row[1], row[2], row[3]))"
   ]
  },
  {
   "cell_type": "code",
   "execution_count": 9,
   "metadata": {},
   "outputs": [
    {
     "ename": "SyntaxException",
     "evalue": "<Error from server: code=2000 [Syntax error in CQL query] message=\"line 1:39 no viable alternative at input 'between' (select * from students where [StudentId] between...)\">",
     "output_type": "error",
     "traceback": [
      "\u001b[1;31m---------------------------------------------------------------------------\u001b[0m",
      "\u001b[1;31mSyntaxException\u001b[0m                           Traceback (most recent call last)",
      "\u001b[1;32m<ipython-input-9-450396d08fa2>\u001b[0m in \u001b[0;36m<module>\u001b[1;34m\u001b[0m\n\u001b[0;32m      9\u001b[0m \u001b[0msession\u001b[0m \u001b[1;33m=\u001b[0m \u001b[0mcluster\u001b[0m\u001b[1;33m.\u001b[0m\u001b[0mconnect\u001b[0m\u001b[1;33m(\u001b[0m\u001b[1;34m'Test'\u001b[0m\u001b[1;33m)\u001b[0m\u001b[1;33m\u001b[0m\u001b[1;33m\u001b[0m\u001b[0m\n\u001b[0;32m     10\u001b[0m \u001b[1;33m\u001b[0m\u001b[0m\n\u001b[1;32m---> 11\u001b[1;33m \u001b[0mrows\u001b[0m\u001b[1;33m=\u001b[0m\u001b[0msession\u001b[0m\u001b[1;33m.\u001b[0m\u001b[0mexecute\u001b[0m\u001b[1;33m(\u001b[0m\u001b[1;34m\"select * from students where StudentId between 1 and 10 ALLOW FILTERING;\"\u001b[0m\u001b[1;33m)\u001b[0m\u001b[1;33m\u001b[0m\u001b[1;33m\u001b[0m\u001b[0m\n\u001b[0m\u001b[0;32m     12\u001b[0m \u001b[1;32mfor\u001b[0m \u001b[0mrow\u001b[0m \u001b[1;32min\u001b[0m \u001b[0mrows\u001b[0m\u001b[1;33m:\u001b[0m\u001b[1;33m\u001b[0m\u001b[1;33m\u001b[0m\u001b[0m\n\u001b[0;32m     13\u001b[0m     \u001b[1;31m#print(row)\u001b[0m\u001b[1;33m\u001b[0m\u001b[1;33m\u001b[0m\u001b[1;33m\u001b[0m\u001b[0m\n",
      "\u001b[1;32m~\\anaconda3\\lib\\site-packages\\cassandra\\cluster.cp38-win_amd64.pyd\u001b[0m in \u001b[0;36mcassandra.cluster.Session.execute\u001b[1;34m()\u001b[0m\n",
      "\u001b[1;32m~\\anaconda3\\lib\\site-packages\\cassandra\\cluster.cp38-win_amd64.pyd\u001b[0m in \u001b[0;36mcassandra.cluster.ResponseFuture.result\u001b[1;34m()\u001b[0m\n",
      "\u001b[1;31mSyntaxException\u001b[0m: <Error from server: code=2000 [Syntax error in CQL query] message=\"line 1:39 no viable alternative at input 'between' (select * from students where [StudentId] between...)\">"
     ]
    }
   ],
   "source": [
    "from cassandra.cluster import Cluster\n",
    "from cassandra.auth import PlainTextAuthProvider\n",
    "\n",
    "cloud_config= {\n",
    "        'secure_connect_bundle': 'D:\\DATA SCIENCE\\secure-connect-Ds.zip'\n",
    "}\n",
    "auth_provider = PlainTextAuthProvider('hPJWFtqiTGBRlSpwxMbTAEkM', 'CuyYrjYZyIiYejnxQqDMN6Jaqf3lGNzNroEumAatfsRe,XR1ZS7_KUDCXZSizZxkyMSlPuT5-4ew+MW4KZyA4B.KYu8Pal_4-28s8OcJZiiF5x5zpKlbK02XaATigpXu')\n",
    "cluster = Cluster(cloud=cloud_config, auth_provider=auth_provider)\n",
    "session = cluster.connect('Test')\n",
    "\n",
    "rows=session.execute(\"select * from students where StudentId between 1 and 10 ALLOW FILTERING;\")\n",
    "for row in rows:\n",
    "    #print(row)\n",
    "    print ('StudentID: {} Name:{} Age:{} Marks:{}'.format(row[0],row[1], row[2], row[3]))"
   ]
  },
  {
   "cell_type": "code",
   "execution_count": 13,
   "metadata": {},
   "outputs": [
    {
     "ename": "SyntaxException",
     "evalue": "<Error from server: code=2000 [Syntax error in CQL query] message=\"line 1:39 no viable alternative at input 'NOT' (select * from students where [StudentId] NOT...)\">",
     "output_type": "error",
     "traceback": [
      "\u001b[1;31m---------------------------------------------------------------------------\u001b[0m",
      "\u001b[1;31mSyntaxException\u001b[0m                           Traceback (most recent call last)",
      "\u001b[1;32m<ipython-input-13-c721db9c10b0>\u001b[0m in \u001b[0;36m<module>\u001b[1;34m\u001b[0m\n\u001b[0;32m      9\u001b[0m \u001b[0msession\u001b[0m \u001b[1;33m=\u001b[0m \u001b[0mcluster\u001b[0m\u001b[1;33m.\u001b[0m\u001b[0mconnect\u001b[0m\u001b[1;33m(\u001b[0m\u001b[1;34m'Test'\u001b[0m\u001b[1;33m)\u001b[0m\u001b[1;33m\u001b[0m\u001b[1;33m\u001b[0m\u001b[0m\n\u001b[0;32m     10\u001b[0m \u001b[1;33m\u001b[0m\u001b[0m\n\u001b[1;32m---> 11\u001b[1;33m \u001b[0mrows\u001b[0m\u001b[1;33m=\u001b[0m\u001b[0msession\u001b[0m\u001b[1;33m.\u001b[0m\u001b[0mexecute\u001b[0m\u001b[1;33m(\u001b[0m\u001b[1;34m\"select * from students where StudentId NOT between 1 and 10 ALLOW FILTERING;\"\u001b[0m\u001b[1;33m)\u001b[0m\u001b[1;33m\u001b[0m\u001b[1;33m\u001b[0m\u001b[0m\n\u001b[0m\u001b[0;32m     12\u001b[0m \u001b[1;32mfor\u001b[0m \u001b[0mrow\u001b[0m \u001b[1;32min\u001b[0m \u001b[0mrows\u001b[0m\u001b[1;33m:\u001b[0m\u001b[1;33m\u001b[0m\u001b[1;33m\u001b[0m\u001b[0m\n\u001b[0;32m     13\u001b[0m     \u001b[1;31m#print(row)\u001b[0m\u001b[1;33m\u001b[0m\u001b[1;33m\u001b[0m\u001b[1;33m\u001b[0m\u001b[0m\n",
      "\u001b[1;32m~\\anaconda3\\lib\\site-packages\\cassandra\\cluster.cp38-win_amd64.pyd\u001b[0m in \u001b[0;36mcassandra.cluster.Session.execute\u001b[1;34m()\u001b[0m\n",
      "\u001b[1;32m~\\anaconda3\\lib\\site-packages\\cassandra\\cluster.cp38-win_amd64.pyd\u001b[0m in \u001b[0;36mcassandra.cluster.ResponseFuture.result\u001b[1;34m()\u001b[0m\n",
      "\u001b[1;31mSyntaxException\u001b[0m: <Error from server: code=2000 [Syntax error in CQL query] message=\"line 1:39 no viable alternative at input 'NOT' (select * from students where [StudentId] NOT...)\">"
     ]
    }
   ],
   "source": [
    "from cassandra.cluster import Cluster\n",
    "from cassandra.auth import PlainTextAuthProvider\n",
    "\n",
    "cloud_config= {\n",
    "        'secure_connect_bundle': 'D:\\DATA SCIENCE\\secure-connect-Ds.zip'\n",
    "}\n",
    "auth_provider = PlainTextAuthProvider('hPJWFtqiTGBRlSpwxMbTAEkM', 'CuyYrjYZyIiYejnxQqDMN6Jaqf3lGNzNroEumAatfsRe,XR1ZS7_KUDCXZSizZxkyMSlPuT5-4ew+MW4KZyA4B.KYu8Pal_4-28s8OcJZiiF5x5zpKlbK02XaATigpXu')\n",
    "cluster = Cluster(cloud=cloud_config, auth_provider=auth_provider)\n",
    "session = cluster.connect('Test')\n",
    "\n",
    "rows=session.execute(\"select * from students where StudentId NOT between 1 and 10 ALLOW FILTERING;\")\n",
    "for row in rows:\n",
    "    #print(row)\n",
    "    print ('StudentID: {} Name:{} Age:{} Marks:{}'.format(row[0],row[1], row[2], row[3]))"
   ]
  },
  {
   "cell_type": "code",
   "execution_count": 16,
   "metadata": {},
   "outputs": [
    {
     "name": "stdout",
     "output_type": "stream",
     "text": [
      "StudentID: 5 Name:SD Age:26 Marks:200\n",
      "StudentID: 10 Name:SXZD Age:26 Marks:200\n",
      "StudentID: 13 Name:SXZD Age:26 Marks:200\n",
      "StudentID: 11 Name:SXZD Age:26 Marks:200\n",
      "StudentID: 1 Name:Juhi Age:20 Marks:200\n",
      "StudentID: 8 Name:SXZD Age:26 Marks:200\n",
      "StudentID: 2 Name:ABC Age:23 Marks:200\n",
      "StudentID: 4 Name:SAS Age:25 Marks:200\n",
      "StudentID: 15 Name:SXZD Age:26 Marks:200\n",
      "StudentID: 6 Name:Updated Name Age:45 Marks:500\n",
      "StudentID: 9 Name:SXZD Age:26 Marks:200\n",
      "StudentID: 14 Name:SXZD Age:26 Marks:200\n",
      "StudentID: 12 Name:SXZD Age:26 Marks:200\n",
      "StudentID: 3 Name:SAS Age:25 Marks:200\n"
     ]
    }
   ],
   "source": [
    "from cassandra.cluster import Cluster\n",
    "from cassandra.auth import PlainTextAuthProvider\n",
    "\n",
    "cloud_config= {\n",
    "        'secure_connect_bundle': 'D:\\DATA SCIENCE\\secure-connect-Ds.zip'\n",
    "}\n",
    "auth_provider = PlainTextAuthProvider('hPJWFtqiTGBRlSpwxMbTAEkM', 'CuyYrjYZyIiYejnxQqDMN6Jaqf3lGNzNroEumAatfsRe,XR1ZS7_KUDCXZSizZxkyMSlPuT5-4ew+MW4KZyA4B.KYu8Pal_4-28s8OcJZiiF5x5zpKlbK02XaATigpXu')\n",
    "cluster = Cluster(cloud=cloud_config, auth_provider=auth_provider)\n",
    "session = cluster.connect('Test')\n",
    "\n",
    "rows=session.execute(\"select StudentId AS StudId,name AS StudentName,age,marks from students;\")\n",
    "for row in rows:\n",
    "    #print(row)\n",
    "    print ('StudentID: {} Name:{} Age:{} Marks:{}'.format(row[0],row[1], row[2], row[3]))"
   ]
  },
  {
   "cell_type": "code",
   "execution_count": 17,
   "metadata": {},
   "outputs": [
    {
     "ename": "InvalidRequest",
     "evalue": "Error from server: code=2200 [Invalid query] message=\"Cannot use CONTAINS on non-collection column name\"",
     "output_type": "error",
     "traceback": [
      "\u001b[1;31m---------------------------------------------------------------------------\u001b[0m",
      "\u001b[1;31mInvalidRequest\u001b[0m                            Traceback (most recent call last)",
      "\u001b[1;32m<ipython-input-17-b34c108f5f93>\u001b[0m in \u001b[0;36m<module>\u001b[1;34m\u001b[0m\n\u001b[0;32m      9\u001b[0m \u001b[0msession\u001b[0m \u001b[1;33m=\u001b[0m \u001b[0mcluster\u001b[0m\u001b[1;33m.\u001b[0m\u001b[0mconnect\u001b[0m\u001b[1;33m(\u001b[0m\u001b[1;34m'Test'\u001b[0m\u001b[1;33m)\u001b[0m\u001b[1;33m\u001b[0m\u001b[1;33m\u001b[0m\u001b[0m\n\u001b[0;32m     10\u001b[0m \u001b[1;33m\u001b[0m\u001b[0m\n\u001b[1;32m---> 11\u001b[1;33m \u001b[0mrows\u001b[0m\u001b[1;33m=\u001b[0m\u001b[0msession\u001b[0m\u001b[1;33m.\u001b[0m\u001b[0mexecute\u001b[0m\u001b[1;33m(\u001b[0m\u001b[1;34m\"select * from students where name contains 'j';\"\u001b[0m\u001b[1;33m)\u001b[0m\u001b[1;33m\u001b[0m\u001b[1;33m\u001b[0m\u001b[0m\n\u001b[0m\u001b[0;32m     12\u001b[0m \u001b[1;32mfor\u001b[0m \u001b[0mrow\u001b[0m \u001b[1;32min\u001b[0m \u001b[0mrows\u001b[0m\u001b[1;33m:\u001b[0m\u001b[1;33m\u001b[0m\u001b[1;33m\u001b[0m\u001b[0m\n\u001b[0;32m     13\u001b[0m     \u001b[1;31m#print(row)\u001b[0m\u001b[1;33m\u001b[0m\u001b[1;33m\u001b[0m\u001b[1;33m\u001b[0m\u001b[0m\n",
      "\u001b[1;32m~\\anaconda3\\lib\\site-packages\\cassandra\\cluster.cp38-win_amd64.pyd\u001b[0m in \u001b[0;36mcassandra.cluster.Session.execute\u001b[1;34m()\u001b[0m\n",
      "\u001b[1;32m~\\anaconda3\\lib\\site-packages\\cassandra\\cluster.cp38-win_amd64.pyd\u001b[0m in \u001b[0;36mcassandra.cluster.ResponseFuture.result\u001b[1;34m()\u001b[0m\n",
      "\u001b[1;31mInvalidRequest\u001b[0m: Error from server: code=2200 [Invalid query] message=\"Cannot use CONTAINS on non-collection column name\""
     ]
    }
   ],
   "source": [
    "from cassandra.cluster import Cluster\n",
    "from cassandra.auth import PlainTextAuthProvider\n",
    "\n",
    "cloud_config= {\n",
    "        'secure_connect_bundle': 'D:\\DATA SCIENCE\\secure-connect-Ds.zip'\n",
    "}\n",
    "auth_provider = PlainTextAuthProvider('hPJWFtqiTGBRlSpwxMbTAEkM', 'CuyYrjYZyIiYejnxQqDMN6Jaqf3lGNzNroEumAatfsRe,XR1ZS7_KUDCXZSizZxkyMSlPuT5-4ew+MW4KZyA4B.KYu8Pal_4-28s8OcJZiiF5x5zpKlbK02XaATigpXu')\n",
    "cluster = Cluster(cloud=cloud_config, auth_provider=auth_provider)\n",
    "session = cluster.connect('Test')\n",
    "\n",
    "rows=session.execute(\"select * from students where name contains 'j';\")\n",
    "for row in rows:\n",
    "    #print(row)\n",
    "    print ('StudentID: {} Name:{} Age:{} Marks:{}'.format(row[0],row[1], row[2], row[3]))"
   ]
  },
  {
   "cell_type": "code",
   "execution_count": 19,
   "metadata": {},
   "outputs": [
    {
     "data": {
      "text/plain": [
       "<cassandra.cluster.ResultSet at 0x1ffceb81fd0>"
      ]
     },
     "execution_count": 19,
     "metadata": {},
     "output_type": "execute_result"
    }
   ],
   "source": [
    "studentlist=[(15,'Juhi',20,100), (16,'dilip',20, 110),(17,'jeevan',24,145)]\n",
    "\n",
    "from cassandra.query import SimpleStatement, BatchStatement\n",
    "batch=BatchStatement()\n",
    "for student in studentlist:\n",
    "   batch.add(SimpleStatement(\"INSERT INTO students (studentID, name, age, marks) VALUES(%s, %s, %s, %s)\"), (student[0], student[1],student[2], student[3]))\n",
    "session.execute(batch)"
   ]
  },
  {
   "cell_type": "code",
   "execution_count": 24,
   "metadata": {},
   "outputs": [
    {
     "data": {
      "text/plain": [
       "<cassandra.cluster.ResultSet at 0x1ffceae3c70>"
      ]
     },
     "execution_count": 24,
     "metadata": {},
     "output_type": "execute_result"
    }
   ],
   "source": [
    "from cassandra.cluster import Cluster\n",
    "from cassandra.auth import PlainTextAuthProvider\n",
    "\n",
    "cloud_config= {\n",
    "        'secure_connect_bundle': 'D:\\DATA SCIENCE\\secure-connect-Ds.zip'\n",
    "}\n",
    "auth_provider = PlainTextAuthProvider('hPJWFtqiTGBRlSpwxMbTAEkM', 'CuyYrjYZyIiYejnxQqDMN6Jaqf3lGNzNroEumAatfsRe,XR1ZS7_KUDCXZSizZxkyMSlPuT5-4ew+MW4KZyA4B.KYu8Pal_4-28s8OcJZiiF5x5zpKlbK02XaATigpXu')\n",
    "cluster = Cluster(cloud=cloud_config, auth_provider=auth_provider)\n",
    "session = cluster.connect('Test')\n",
    "qry= \"create table students1 (studentID int,name text,age int,marks int,primary key((studentID,name),marks)) WITH CLUSTERING ORDER BY (marks DESC);\"\n",
    "session.execute(qry)"
   ]
  },
  {
   "cell_type": "code",
   "execution_count": 25,
   "metadata": {},
   "outputs": [
    {
     "data": {
      "text/plain": [
       "<cassandra.cluster.ResultSet at 0x1ffce8a1040>"
      ]
     },
     "execution_count": 25,
     "metadata": {},
     "output_type": "execute_result"
    }
   ],
   "source": [
    "studentlist=[(15,'Juhi',20,100), (16,'dilip',20, 110),(17,'jeevan',24,145)]\n",
    "\n",
    "from cassandra.query import SimpleStatement, BatchStatement\n",
    "batch=BatchStatement()\n",
    "for student in studentlist:\n",
    "    batch.add(SimpleStatement(\"INSERT INTO students1 (studentID, name, age, marks) VALUES(%s, %s, %s, %s)\"), (student[0], student[1],student[2], student[3]))\n",
    "session.execute(batch)"
   ]
  },
  {
   "cell_type": "code",
   "execution_count": 31,
   "metadata": {},
   "outputs": [
    {
     "name": "stdout",
     "output_type": "stream",
     "text": [
      "StudentID: 15 Name:Juhi Age:100 Marks:20\n"
     ]
    }
   ],
   "source": [
    "from cassandra.cluster import Cluster\n",
    "from cassandra.auth import PlainTextAuthProvider\n",
    "\n",
    "cloud_config= {\n",
    "        'secure_connect_bundle': 'D:\\DATA SCIENCE\\secure-connect-Ds.zip'\n",
    "}\n",
    "auth_provider = PlainTextAuthProvider('hPJWFtqiTGBRlSpwxMbTAEkM', 'CuyYrjYZyIiYejnxQqDMN6Jaqf3lGNzNroEumAatfsRe,XR1ZS7_KUDCXZSizZxkyMSlPuT5-4ew+MW4KZyA4B.KYu8Pal_4-28s8OcJZiiF5x5zpKlbK02XaATigpXu')\n",
    "cluster = Cluster(cloud=cloud_config, auth_provider=auth_provider)\n",
    "session = cluster.connect('Test')\n",
    "\n",
    "rows=session.execute(\"select * from students1 where StudentId = 15 AND name = 'Juhi' ORDER BY marks ALLOW  filtering;\")\n",
    "for row in rows:\n",
    "    #print(row)\n",
    "    print ('StudentID: {} Name:{} Age:{} Marks:{}'.format(row[0],row[1], row[2], row[3]))"
   ]
  },
  {
   "cell_type": "code",
   "execution_count": 34,
   "metadata": {},
   "outputs": [
    {
     "ename": "InvalidRequest",
     "evalue": "Error from server: code=2200 [Invalid query] message=\"Cannot use CONTAINS on non-collection column name\"",
     "output_type": "error",
     "traceback": [
      "\u001b[1;31m---------------------------------------------------------------------------\u001b[0m",
      "\u001b[1;31mInvalidRequest\u001b[0m                            Traceback (most recent call last)",
      "\u001b[1;32m<ipython-input-34-8005353ba2e5>\u001b[0m in \u001b[0;36m<module>\u001b[1;34m\u001b[0m\n\u001b[0;32m      9\u001b[0m \u001b[0msession\u001b[0m \u001b[1;33m=\u001b[0m \u001b[0mcluster\u001b[0m\u001b[1;33m.\u001b[0m\u001b[0mconnect\u001b[0m\u001b[1;33m(\u001b[0m\u001b[1;34m'Test'\u001b[0m\u001b[1;33m)\u001b[0m\u001b[1;33m\u001b[0m\u001b[1;33m\u001b[0m\u001b[0m\n\u001b[0;32m     10\u001b[0m \u001b[1;33m\u001b[0m\u001b[0m\n\u001b[1;32m---> 11\u001b[1;33m \u001b[0mrows\u001b[0m\u001b[1;33m=\u001b[0m\u001b[0msession\u001b[0m\u001b[1;33m.\u001b[0m\u001b[0mexecute\u001b[0m\u001b[1;33m(\u001b[0m\u001b[1;34m\"select * from students1 where name contains '%j%' ALLOW FILTERING;\"\u001b[0m\u001b[1;33m)\u001b[0m\u001b[1;33m\u001b[0m\u001b[1;33m\u001b[0m\u001b[0m\n\u001b[0m\u001b[0;32m     12\u001b[0m \u001b[1;32mfor\u001b[0m \u001b[0mrow\u001b[0m \u001b[1;32min\u001b[0m \u001b[0mrows\u001b[0m\u001b[1;33m:\u001b[0m\u001b[1;33m\u001b[0m\u001b[1;33m\u001b[0m\u001b[0m\n\u001b[0;32m     13\u001b[0m     \u001b[1;31m#print(row)\u001b[0m\u001b[1;33m\u001b[0m\u001b[1;33m\u001b[0m\u001b[1;33m\u001b[0m\u001b[0m\n",
      "\u001b[1;32m~\\anaconda3\\lib\\site-packages\\cassandra\\cluster.cp38-win_amd64.pyd\u001b[0m in \u001b[0;36mcassandra.cluster.Session.execute\u001b[1;34m()\u001b[0m\n",
      "\u001b[1;32m~\\anaconda3\\lib\\site-packages\\cassandra\\cluster.cp38-win_amd64.pyd\u001b[0m in \u001b[0;36mcassandra.cluster.ResponseFuture.result\u001b[1;34m()\u001b[0m\n",
      "\u001b[1;31mInvalidRequest\u001b[0m: Error from server: code=2200 [Invalid query] message=\"Cannot use CONTAINS on non-collection column name\""
     ]
    }
   ],
   "source": [
    "from cassandra.cluster import Cluster\n",
    "from cassandra.auth import PlainTextAuthProvider\n",
    "\n",
    "cloud_config= {\n",
    "        'secure_connect_bundle': 'D:\\DATA SCIENCE\\secure-connect-Ds.zip'\n",
    "}\n",
    "auth_provider = PlainTextAuthProvider('hPJWFtqiTGBRlSpwxMbTAEkM', 'CuyYrjYZyIiYejnxQqDMN6Jaqf3lGNzNroEumAatfsRe,XR1ZS7_KUDCXZSizZxkyMSlPuT5-4ew+MW4KZyA4B.KYu8Pal_4-28s8OcJZiiF5x5zpKlbK02XaATigpXu')\n",
    "cluster = Cluster(cloud=cloud_config, auth_provider=auth_provider)\n",
    "session = cluster.connect('Test')\n",
    "\n",
    "rows=session.execute(\"select * from students1 where name contains '%j%' ALLOW FILTERING;\")\n",
    "for row in rows:\n",
    "    #print(row)\n",
    "    print ('StudentID: {} Name:{} Age:{} Marks:{}'.format(row[0],row[1], row[2], row[3]))"
   ]
  },
  {
   "cell_type": "code",
   "execution_count": 37,
   "metadata": {},
   "outputs": [
    {
     "ename": "SyntaxException",
     "evalue": "<Error from server: code=2000 [Syntax error in CQL query] message=\"line 1:23 no viable alternative at input 'inner' (select * from [students] inner...)\">",
     "output_type": "error",
     "traceback": [
      "\u001b[1;31m---------------------------------------------------------------------------\u001b[0m",
      "\u001b[1;31mSyntaxException\u001b[0m                           Traceback (most recent call last)",
      "\u001b[1;32m<ipython-input-37-2f473a19a095>\u001b[0m in \u001b[0;36m<module>\u001b[1;34m\u001b[0m\n\u001b[0;32m      9\u001b[0m \u001b[0msession\u001b[0m \u001b[1;33m=\u001b[0m \u001b[0mcluster\u001b[0m\u001b[1;33m.\u001b[0m\u001b[0mconnect\u001b[0m\u001b[1;33m(\u001b[0m\u001b[1;34m'Test'\u001b[0m\u001b[1;33m)\u001b[0m\u001b[1;33m\u001b[0m\u001b[1;33m\u001b[0m\u001b[0m\n\u001b[0;32m     10\u001b[0m \u001b[1;33m\u001b[0m\u001b[0m\n\u001b[1;32m---> 11\u001b[1;33m \u001b[0mrows\u001b[0m\u001b[1;33m=\u001b[0m\u001b[0msession\u001b[0m\u001b[1;33m.\u001b[0m\u001b[0mexecute\u001b[0m\u001b[1;33m(\u001b[0m\u001b[1;34m\"select * from students inner join students1 on students.StudentID = students1.StudentID;\"\u001b[0m\u001b[1;33m)\u001b[0m\u001b[1;33m\u001b[0m\u001b[1;33m\u001b[0m\u001b[0m\n\u001b[0m\u001b[0;32m     12\u001b[0m \u001b[1;32mfor\u001b[0m \u001b[0mrow\u001b[0m \u001b[1;32min\u001b[0m \u001b[0mrows\u001b[0m\u001b[1;33m:\u001b[0m\u001b[1;33m\u001b[0m\u001b[1;33m\u001b[0m\u001b[0m\n\u001b[0;32m     13\u001b[0m     \u001b[1;31m#print(row)\u001b[0m\u001b[1;33m\u001b[0m\u001b[1;33m\u001b[0m\u001b[1;33m\u001b[0m\u001b[0m\n",
      "\u001b[1;32m~\\anaconda3\\lib\\site-packages\\cassandra\\cluster.cp38-win_amd64.pyd\u001b[0m in \u001b[0;36mcassandra.cluster.Session.execute\u001b[1;34m()\u001b[0m\n",
      "\u001b[1;32m~\\anaconda3\\lib\\site-packages\\cassandra\\cluster.cp38-win_amd64.pyd\u001b[0m in \u001b[0;36mcassandra.cluster.ResponseFuture.result\u001b[1;34m()\u001b[0m\n",
      "\u001b[1;31mSyntaxException\u001b[0m: <Error from server: code=2000 [Syntax error in CQL query] message=\"line 1:23 no viable alternative at input 'inner' (select * from [students] inner...)\">"
     ]
    }
   ],
   "source": [
    "from cassandra.cluster import Cluster\n",
    "from cassandra.auth import PlainTextAuthProvider\n",
    "\n",
    "cloud_config= {\n",
    "        'secure_connect_bundle': 'D:\\DATA SCIENCE\\secure-connect-Ds.zip'\n",
    "}\n",
    "auth_provider = PlainTextAuthProvider('hPJWFtqiTGBRlSpwxMbTAEkM', 'CuyYrjYZyIiYejnxQqDMN6Jaqf3lGNzNroEumAatfsRe,XR1ZS7_KUDCXZSizZxkyMSlPuT5-4ew+MW4KZyA4B.KYu8Pal_4-28s8OcJZiiF5x5zpKlbK02XaATigpXu')\n",
    "cluster = Cluster(cloud=cloud_config, auth_provider=auth_provider)\n",
    "session = cluster.connect('Test')\n",
    "\n",
    "rows=session.execute(\"select * from students inner join students1 on students.StudentID = students1.StudentID;\")\n",
    "for row in rows:\n",
    "    #print(row)\n",
    "    print ('StudentID: {} Name:{} Age:{} Marks:{}'.format(row[0],row[1], row[2], row[3]))"
   ]
  },
  {
   "cell_type": "code",
   "execution_count": 38,
   "metadata": {},
   "outputs": [
    {
     "ename": "SyntaxException",
     "evalue": "<Error from server: code=2000 [Syntax error in CQL query] message=\"line 1:23 no viable alternative at input 'UNION' (select * from [students] UNION...)\">",
     "output_type": "error",
     "traceback": [
      "\u001b[1;31m---------------------------------------------------------------------------\u001b[0m",
      "\u001b[1;31mSyntaxException\u001b[0m                           Traceback (most recent call last)",
      "\u001b[1;32m<ipython-input-38-d1d194d1ee9e>\u001b[0m in \u001b[0;36m<module>\u001b[1;34m\u001b[0m\n\u001b[0;32m      9\u001b[0m \u001b[0msession\u001b[0m \u001b[1;33m=\u001b[0m \u001b[0mcluster\u001b[0m\u001b[1;33m.\u001b[0m\u001b[0mconnect\u001b[0m\u001b[1;33m(\u001b[0m\u001b[1;34m'Test'\u001b[0m\u001b[1;33m)\u001b[0m\u001b[1;33m\u001b[0m\u001b[1;33m\u001b[0m\u001b[0m\n\u001b[0;32m     10\u001b[0m \u001b[1;33m\u001b[0m\u001b[0m\n\u001b[1;32m---> 11\u001b[1;33m \u001b[0mrows\u001b[0m\u001b[1;33m=\u001b[0m\u001b[0msession\u001b[0m\u001b[1;33m.\u001b[0m\u001b[0mexecute\u001b[0m\u001b[1;33m(\u001b[0m\u001b[1;34m\"select * from students UNION select * from students1;\"\u001b[0m\u001b[1;33m)\u001b[0m\u001b[1;33m\u001b[0m\u001b[1;33m\u001b[0m\u001b[0m\n\u001b[0m\u001b[0;32m     12\u001b[0m \u001b[1;32mfor\u001b[0m \u001b[0mrow\u001b[0m \u001b[1;32min\u001b[0m \u001b[0mrows\u001b[0m\u001b[1;33m:\u001b[0m\u001b[1;33m\u001b[0m\u001b[1;33m\u001b[0m\u001b[0m\n\u001b[0;32m     13\u001b[0m     \u001b[1;31m#print(row)\u001b[0m\u001b[1;33m\u001b[0m\u001b[1;33m\u001b[0m\u001b[1;33m\u001b[0m\u001b[0m\n",
      "\u001b[1;32m~\\anaconda3\\lib\\site-packages\\cassandra\\cluster.cp38-win_amd64.pyd\u001b[0m in \u001b[0;36mcassandra.cluster.Session.execute\u001b[1;34m()\u001b[0m\n",
      "\u001b[1;32m~\\anaconda3\\lib\\site-packages\\cassandra\\cluster.cp38-win_amd64.pyd\u001b[0m in \u001b[0;36mcassandra.cluster.ResponseFuture.result\u001b[1;34m()\u001b[0m\n",
      "\u001b[1;31mSyntaxException\u001b[0m: <Error from server: code=2000 [Syntax error in CQL query] message=\"line 1:23 no viable alternative at input 'UNION' (select * from [students] UNION...)\">"
     ]
    }
   ],
   "source": [
    "from cassandra.cluster import Cluster\n",
    "from cassandra.auth import PlainTextAuthProvider\n",
    "\n",
    "cloud_config= {\n",
    "        'secure_connect_bundle': 'D:\\DATA SCIENCE\\secure-connect-Ds.zip'\n",
    "}\n",
    "auth_provider = PlainTextAuthProvider('hPJWFtqiTGBRlSpwxMbTAEkM', 'CuyYrjYZyIiYejnxQqDMN6Jaqf3lGNzNroEumAatfsRe,XR1ZS7_KUDCXZSizZxkyMSlPuT5-4ew+MW4KZyA4B.KYu8Pal_4-28s8OcJZiiF5x5zpKlbK02XaATigpXu')\n",
    "cluster = Cluster(cloud=cloud_config, auth_provider=auth_provider)\n",
    "session = cluster.connect('Test')\n",
    "\n",
    "rows=session.execute(\"select * from students UNION select * from students1;\")\n",
    "for row in rows:\n",
    "    #print(row)\n",
    "    print ('StudentID: {} Name:{} Age:{} Marks:{}'.format(row[0],row[1], row[2], row[3]))"
   ]
  },
  {
   "cell_type": "code",
   "execution_count": 39,
   "metadata": {},
   "outputs": [
    {
     "ename": "SyntaxException",
     "evalue": "<Error from server: code=2000 [Syntax error in CQL query] message=\"line 1:23 no viable alternative at input 'UNION' (select * from [students] UNION...)\">",
     "output_type": "error",
     "traceback": [
      "\u001b[1;31m---------------------------------------------------------------------------\u001b[0m",
      "\u001b[1;31mSyntaxException\u001b[0m                           Traceback (most recent call last)",
      "\u001b[1;32m<ipython-input-39-a510fd845223>\u001b[0m in \u001b[0;36m<module>\u001b[1;34m\u001b[0m\n\u001b[0;32m      9\u001b[0m \u001b[0msession\u001b[0m \u001b[1;33m=\u001b[0m \u001b[0mcluster\u001b[0m\u001b[1;33m.\u001b[0m\u001b[0mconnect\u001b[0m\u001b[1;33m(\u001b[0m\u001b[1;34m'Test'\u001b[0m\u001b[1;33m)\u001b[0m\u001b[1;33m\u001b[0m\u001b[1;33m\u001b[0m\u001b[0m\n\u001b[0;32m     10\u001b[0m \u001b[1;33m\u001b[0m\u001b[0m\n\u001b[1;32m---> 11\u001b[1;33m \u001b[0mrows\u001b[0m\u001b[1;33m=\u001b[0m\u001b[0msession\u001b[0m\u001b[1;33m.\u001b[0m\u001b[0mexecute\u001b[0m\u001b[1;33m(\u001b[0m\u001b[1;34m\"select * from students UNION ALL select * from students1;\"\u001b[0m\u001b[1;33m)\u001b[0m\u001b[1;33m\u001b[0m\u001b[1;33m\u001b[0m\u001b[0m\n\u001b[0m\u001b[0;32m     12\u001b[0m \u001b[1;32mfor\u001b[0m \u001b[0mrow\u001b[0m \u001b[1;32min\u001b[0m \u001b[0mrows\u001b[0m\u001b[1;33m:\u001b[0m\u001b[1;33m\u001b[0m\u001b[1;33m\u001b[0m\u001b[0m\n\u001b[0;32m     13\u001b[0m     \u001b[1;31m#print(row)\u001b[0m\u001b[1;33m\u001b[0m\u001b[1;33m\u001b[0m\u001b[1;33m\u001b[0m\u001b[0m\n",
      "\u001b[1;32m~\\anaconda3\\lib\\site-packages\\cassandra\\cluster.cp38-win_amd64.pyd\u001b[0m in \u001b[0;36mcassandra.cluster.Session.execute\u001b[1;34m()\u001b[0m\n",
      "\u001b[1;32m~\\anaconda3\\lib\\site-packages\\cassandra\\cluster.cp38-win_amd64.pyd\u001b[0m in \u001b[0;36mcassandra.cluster.ResponseFuture.result\u001b[1;34m()\u001b[0m\n",
      "\u001b[1;31mSyntaxException\u001b[0m: <Error from server: code=2000 [Syntax error in CQL query] message=\"line 1:23 no viable alternative at input 'UNION' (select * from [students] UNION...)\">"
     ]
    }
   ],
   "source": [
    "from cassandra.cluster import Cluster\n",
    "from cassandra.auth import PlainTextAuthProvider\n",
    "\n",
    "cloud_config= {\n",
    "        'secure_connect_bundle': 'D:\\DATA SCIENCE\\secure-connect-Ds.zip'\n",
    "}\n",
    "auth_provider = PlainTextAuthProvider('hPJWFtqiTGBRlSpwxMbTAEkM', 'CuyYrjYZyIiYejnxQqDMN6Jaqf3lGNzNroEumAatfsRe,XR1ZS7_KUDCXZSizZxkyMSlPuT5-4ew+MW4KZyA4B.KYu8Pal_4-28s8OcJZiiF5x5zpKlbK02XaATigpXu')\n",
    "cluster = Cluster(cloud=cloud_config, auth_provider=auth_provider)\n",
    "session = cluster.connect('Test')\n",
    "\n",
    "rows=session.execute(\"select * from students UNION ALL select * from students1;\")\n",
    "for row in rows:\n",
    "    #print(row)\n",
    "    print ('StudentID: {} Name:{} Age:{} Marks:{}'.format(row[0],row[1], row[2], row[3]))"
   ]
  },
  {
   "cell_type": "code",
   "execution_count": null,
   "metadata": {},
   "outputs": [],
   "source": []
  }
 ],
 "metadata": {
  "kernelspec": {
   "display_name": "Python 3",
   "language": "python",
   "name": "python3"
  },
  "language_info": {
   "codemirror_mode": {
    "name": "ipython",
    "version": 3
   },
   "file_extension": ".py",
   "mimetype": "text/x-python",
   "name": "python",
   "nbconvert_exporter": "python",
   "pygments_lexer": "ipython3",
   "version": "3.8.3"
  }
 },
 "nbformat": 4,
 "nbformat_minor": 4
}
